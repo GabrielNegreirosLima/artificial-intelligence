{
 "cells": [
  {
   "cell_type": "markdown",
   "id": "younger-estonia",
   "metadata": {},
   "source": [
    "# Exercício de Programação: Regressão Linear\n",
    "\n",
    "***Autor*: Gabriel Negreiros Lima**"
   ]
  },
  {
   "cell_type": "markdown",
   "id": "color-concern",
   "metadata": {},
   "source": [
    "## Questão 1 - Regressão Linear com uma variável\n",
    "Neste exercício, vamos implementar uma regressão linear com uma variável para prever o lucro que poderia ser obtido caso tenhamos decidido montar um food truck.\n",
    "\n",
    "### 1) O problema\n",
    "Suponha  que  você  seja  o  CEO  de  uma  franquia  de  restaurantes  e  esteja procurando por um lugar (cidade) para abrir uma nova loja (food truck). A rede já tem caminhões em várias cidades e você tem os dados sobre lucro \n",
    "e tamanho da população em cada uma delas. Você gostaria então de usar esses dados para ajudá-lo a selecionar qual deveria ser a próxima cidade a ser escolhida dentro do seu projeto de expansão da marca.\n",
    "\n",
    "O arquivo “data1.txt” contém o conjunto de dados para o esse problema de regressão linear. A primeira coluna deste arquivo representa a população de uma cidade e a segunda coluna, por sua vez, o lucro de um food truck naquela cidade. Um valor negativo para o lucro indica uma perda. "
   ]
  },
  {
   "cell_type": "code",
   "execution_count": 4,
   "id": "behavioral-manhattan",
   "metadata": {},
   "outputs": [
    {
     "data": {
      "text/html": [
       "<div>\n",
       "<style scoped>\n",
       "    .dataframe tbody tr th:only-of-type {\n",
       "        vertical-align: middle;\n",
       "    }\n",
       "\n",
       "    .dataframe tbody tr th {\n",
       "        vertical-align: top;\n",
       "    }\n",
       "\n",
       "    .dataframe thead th {\n",
       "        text-align: right;\n",
       "    }\n",
       "</style>\n",
       "<table border=\"1\" class=\"dataframe\">\n",
       "  <thead>\n",
       "    <tr style=\"text-align: right;\">\n",
       "      <th></th>\n",
       "      <th>population</th>\n",
       "      <th>profit</th>\n",
       "    </tr>\n",
       "  </thead>\n",
       "  <tbody>\n",
       "    <tr>\n",
       "      <th>0</th>\n",
       "      <td>6.1101</td>\n",
       "      <td>17.5920</td>\n",
       "    </tr>\n",
       "    <tr>\n",
       "      <th>1</th>\n",
       "      <td>5.5277</td>\n",
       "      <td>9.1302</td>\n",
       "    </tr>\n",
       "    <tr>\n",
       "      <th>2</th>\n",
       "      <td>8.5186</td>\n",
       "      <td>13.6620</td>\n",
       "    </tr>\n",
       "    <tr>\n",
       "      <th>3</th>\n",
       "      <td>7.0032</td>\n",
       "      <td>11.8540</td>\n",
       "    </tr>\n",
       "    <tr>\n",
       "      <th>4</th>\n",
       "      <td>5.8598</td>\n",
       "      <td>6.8233</td>\n",
       "    </tr>\n",
       "  </tbody>\n",
       "</table>\n",
       "</div>"
      ],
      "text/plain": [
       "   population   profit\n",
       "0      6.1101  17.5920\n",
       "1      5.5277   9.1302\n",
       "2      8.5186  13.6620\n",
       "3      7.0032  11.8540\n",
       "4      5.8598   6.8233"
      ]
     },
     "execution_count": 4,
     "metadata": {},
     "output_type": "execute_result"
    }
   ],
   "source": [
    "# Importação e amostra do dataset\n",
    "import pandas as pd\n",
    "import numpy as np\n",
    "import matplotlib.pyplot as plt\n",
    "\n",
    "data_paths = [\"data1.txt\", \"data1.txt\"]\n",
    "colums_food = [\"population\", \"profit\"]\n",
    "df_food = pd.read_csv(data_paths[0], delimiter=\",\", header=None, names=colums_food)\n",
    "df_food.head()"
   ]
  },
  {
   "cell_type": "markdown",
   "id": "automated-serve",
   "metadata": {},
   "source": [
    "### 2) Plotando os dados\n",
    "Antes  de  iniciar  qualquer  tarefa,  muitas  vezes  é  útil  entender  os  dados visualizando-os. Para este conjunto de dados, iremos plotar um gráfico para visualizá-los, uma vez que ele possui apenas duas propriedades para traçar (lucro e população). (Muitos outros problemas que você encontrará na realidade são multidimensionais e não podem ser plotados em 2D.)"
   ]
  },
  {
   "cell_type": "code",
   "execution_count": 9,
   "id": "threatened-trader",
   "metadata": {},
   "outputs": [
    {
     "data": {
      "image/png": "[encoded data removed]",
      "text/plain": [
       "<Figure size 432x288 with 1 Axes>"
      ]
     },
     "metadata": {
      "needs_background": "light"
     },
     "output_type": "display_data"
    }
   ],
   "source": [
    "plt.xlabel(\"Population of the city in 10000s\")\n",
    "plt.ylabel(\"Profit in the city in 10000s\")\n",
    "plt.scatter(df_food[colums_food[0]], df_food[colums_food[1]], c=\"red\")\n",
    "plt.show()"
   ]
  },
  {
   "attachments": {},
   "cell_type": "markdown",
   "id": "right-prospect",
   "metadata": {},
   "source": [
    "### 3) Gradiente Descendente\n",
    "Nesta  parte,  calcularemos  os  parâmetros  da  regressão  linear  e  a função custo para o conjunto de dados, utilizando uma taxa de aprendizado de 0,01.\n",
    "- Plotaremos a função custo em relação ao número de iterações para ver o seu decaimento; \n",
    "- Depois que terminarmos de calcular os parâmetros da regressão, traçar o ajuste linear, conforme a figura indicada na documentação passada pelo professor"
   ]
  },
  {
   "cell_type": "code",
   "execution_count": 11,
   "id": "accredited-greenhouse",
   "metadata": {},
   "outputs": [
    {
     "data": {
      "text/plain": [
       "array([0, 1])"
      ]
     },
     "execution_count": 11,
     "metadata": {},
     "output_type": "execute_result"
    }
   ],
   "source": [
    "## Funcoes matematicas e auxiliares\n",
    "# Definicao da funcao hipotese para um polinomio dado os valores das entradas X (vetor)\n",
    "def h_function(X, coeffs):\n",
    "    result = 0 \n",
    "    \n",
    "    for index, coeff in enumerate(coeffs):\n",
    "        if i == 0:\n",
    "            result += coeff\n",
    "        else:\n",
    "            result += coeff * X[i-1]\n",
    "    \n",
    "    return result\n",
    "\n"
   ]
  }
 ],
 "metadata": {
  "kernelspec": {
   "display_name": "Python 3",
   "language": "python",
   "name": "python3"
  },
  "language_info": {
   "codemirror_mode": {
    "name": "ipython",
    "version": 3
   },
   "file_extension": ".py",
   "mimetype": "text/x-python",
   "name": "python",
   "nbconvert_exporter": "python",
   "pygments_lexer": "ipython3",
   "version": "3.9.6"
  }
 },
 "nbformat": 4,
 "nbformat_minor": 5
}

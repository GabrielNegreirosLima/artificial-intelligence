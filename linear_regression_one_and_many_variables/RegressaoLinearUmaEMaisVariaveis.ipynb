{
 "cells": [
  {
   "cell_type": "markdown",
   "id": "younger-estonia",
   "metadata": {},
   "source": [
    "# Exercício de Programação: Regressão Linear\n",
    "\n",
    "***Autor*: Gabriel Negreiros Lima e André Magalhães**\n",
    "\n",
    "**ATENÇÃO:** Várias variáveis foram usadas com o mesmo nome para dar praticidade. Certifique-se de executar as células linearmente, de preferência executando todas em sequência no meno *Cell > Run All*"
   ]
  },
  {
   "cell_type": "markdown",
   "id": "color-concern",
   "metadata": {},
   "source": [
    "## Questão 1 - Regressão Linear com uma variável\n",
    "Neste exercício, vamos implementar uma regressão linear com uma variável para prever o lucro que poderia ser obtido caso tenhamos decidido montar um food truck.\n",
    "\n",
    "### 1) O problema\n",
    "Suponha  que  você  seja  o  CEO  de  uma  franquia  de  restaurantes  e  esteja procurando por um lugar (cidade) para abrir uma nova loja (food truck). A rede já tem caminhões em várias cidades e você tem os dados sobre lucro \n",
    "e tamanho da população em cada uma delas. Você gostaria então de usar esses dados para ajudá-lo a selecionar qual deveria ser a próxima cidade a ser escolhida dentro do seu projeto de expansão da marca.\n",
    "\n",
    "O arquivo “data1.txt” contém o conjunto de dados para o esse problema de regressão linear. A primeira coluna deste arquivo representa a população de uma cidade e a segunda coluna, por sua vez, o lucro de um food truck naquela cidade. Um valor negativo para o lucro indica uma perda. "
   ]
  },
  {
   "cell_type": "code",
   "execution_count": 1,
   "id": "behavioral-manhattan",
   "metadata": {},
   "outputs": [
    {
     "data": {
      "text/html": [
       "<div>\n",
       "<style scoped>\n",
       "    .dataframe tbody tr th:only-of-type {\n",
       "        vertical-align: middle;\n",
       "    }\n",
       "\n",
       "    .dataframe tbody tr th {\n",
       "        vertical-align: top;\n",
       "    }\n",
       "\n",
       "    .dataframe thead th {\n",
       "        text-align: right;\n",
       "    }\n",
       "</style>\n",
       "<table border=\"1\" class=\"dataframe\">\n",
       "  <thead>\n",
       "    <tr style=\"text-align: right;\">\n",
       "      <th></th>\n",
       "      <th>population</th>\n",
       "      <th>profit</th>\n",
       "    </tr>\n",
       "  </thead>\n",
       "  <tbody>\n",
       "    <tr>\n",
       "      <th>0</th>\n",
       "      <td>6.1101</td>\n",
       "      <td>17.5920</td>\n",
       "    </tr>\n",
       "    <tr>\n",
       "      <th>1</th>\n",
       "      <td>5.5277</td>\n",
       "      <td>9.1302</td>\n",
       "    </tr>\n",
       "    <tr>\n",
       "      <th>2</th>\n",
       "      <td>8.5186</td>\n",
       "      <td>13.6620</td>\n",
       "    </tr>\n",
       "    <tr>\n",
       "      <th>3</th>\n",
       "      <td>7.0032</td>\n",
       "      <td>11.8540</td>\n",
       "    </tr>\n",
       "    <tr>\n",
       "      <th>4</th>\n",
       "      <td>5.8598</td>\n",
       "      <td>6.8233</td>\n",
       "    </tr>\n",
       "  </tbody>\n",
       "</table>\n",
       "</div>"
      ],
      "text/plain": [
       "   population   profit\n",
       "0      6.1101  17.5920\n",
       "1      5.5277   9.1302\n",
       "2      8.5186  13.6620\n",
       "3      7.0032  11.8540\n",
       "4      5.8598   6.8233"
      ]
     },
     "execution_count": 1,
     "metadata": {},
     "output_type": "execute_result"
    }
   ],
   "source": [
    "# Importação e amostra do dataset\n",
    "import pandas as pd\n",
    "import numpy as np\n",
    "import matplotlib.pyplot as plt\n",
    "\n",
    "df_paths = [\"data1.txt\", \"data2.txt\"]\n",
    "colums_food = [\"population\", \"profit\"]\n",
    "df_food = pd.read_csv(df_paths[0], delimiter=\",\", header=None, names=colums_food)\n",
    "df_food.head()"
   ]
  },
  {
   "cell_type": "markdown",
   "id": "automated-serve",
   "metadata": {},
   "source": [
    "### 2) Plotando os dados\n",
    "Antes  de  iniciar  qualquer  tarefa,  muitas  vezes  é  útil  entender  os  dados visualizando-os. Para este conjunto de dados, iremos plotar um gráfico para visualizá-los, uma vez que ele possui apenas duas propriedades para traçar (lucro e população). (Muitos outros problemas que você encontrará na realidade são multidimensionais e não podem ser plotados em 2D.)"
   ]
  },
  {
   "cell_type": "code",
   "execution_count": 2,
   "id": "threatened-trader",
   "metadata": {},
   "outputs": [
    {
     "data": {
      "image/png": "[encoded data removed]",
      "text/plain": [
       "<Figure size 432x288 with 1 Axes>"
      ]
     },
     "metadata": {
      "needs_background": "light"
     },
     "output_type": "display_data"
    }
   ],
   "source": [
    "plt.xlabel(\"Population of the city in 10000s\")\n",
    "plt.ylabel(\"Profit in the city in 10000s\")\n",
    "plt.scatter(df_food[colums_food[0]], df_food[colums_food[1]], c=\"red\")\n",
    "plt.show()"
   ]
  },
  {
   "cell_type": "markdown",
   "id": "right-prospect",
   "metadata": {},
   "source": [
    "### 3) Gradiente Descendente\n",
    "Nesta  parte,  calcularemos  os  parâmetros  da  regressão  linear  e  a função custo para o conjunto de dados, utilizando uma taxa de aprendizado de 0,01.\n",
    "- Plotaremos a função custo em relação ao número de iterações para ver o seu decaimento; \n",
    "- Depois que terminarmos de calcular os parâmetros da regressão, traçar o ajuste linear, conforme a figura indicada na documentação passada pelo professor"
   ]
  },
  {
   "cell_type": "code",
   "execution_count": 3,
   "id": "accredited-greenhouse",
   "metadata": {},
   "outputs": [],
   "source": [
    "## Funcoes matematicas e auxiliares\n",
    "# Definicao da funcao hipotese para um polinomio dado os valores das entradas X (vetor)\n",
    "def h_function(coeffs, X):\n",
    "    result = 0 \n",
    "    \n",
    "    #print(X)\n",
    "    for index, coeff in enumerate(coeffs):\n",
    "        if index == 0:\n",
    "            result += coeff\n",
    "        else:\n",
    "            result += coeff * X\n",
    "    \n",
    "    return result\n",
    "\n",
    "# Gera a reta\n",
    "def evaluated_func(thetas):\n",
    "    y_d = []\n",
    "    \n",
    "    for i, x_i in enumerate(df_food[colums_food[0]]):\n",
    "        y_d.append(h_function(thetas, x_i))\n",
    "    return y_d\n"
   ]
  },
  {
   "cell_type": "code",
   "execution_count": 4,
   "id": "looking-empire",
   "metadata": {},
   "outputs": [
    {
     "data": {
      "image/png": "[encoded data removed]",
      "text/plain": [
       "<Figure size 432x288 with 1 Axes>"
      ]
     },
     "metadata": {
      "needs_background": "light"
     },
     "output_type": "display_data"
    }
   ],
   "source": [
    "## Define variáveis iniciais\n",
    "# Funcao desejada y_d\n",
    "y_d = [] \n",
    "thetas = np.array([0, 1])\n",
    "num_epochs = 500\n",
    "alpha = 0.01\n",
    "\n",
    "costs_epoch = []\n",
    "\n",
    "# Executa iterativamente\n",
    "for i in range(num_epochs):\n",
    "    \n",
    "    y_d = evaluated_func(thetas)\n",
    "    error = y_d - df_food[colums_food[1]]      \n",
    "    cost = (error.sum() ** 2)/(2 * len(df_food[colums_food[1]]))\n",
    "    costs_epoch.append(cost)\n",
    "\n",
    "    temp = np.zeros(len(thetas))\n",
    "    for j in range(0, len(y_d)):\n",
    "        error_temp = (y_d[j] - df_food[colums_food[1]][j])\n",
    "        for k, _ in enumerate(thetas):\n",
    "            if k == 0:\n",
    "                temp[k] += error_temp\n",
    "            else:\n",
    "                temp[k] += error_temp *  df_food[colums_food[1]][j]\n",
    "    thetas = thetas - alpha * (temp/len(df_food[colums_food[0]]))\n",
    "\n",
    "fig = plt.figure()\n",
    "plt.xlabel(\"Population of the city in 10000s\")\n",
    "plt.ylabel(\"Profit in the city in 10000s\")\n",
    "plt.scatter(df_food[colums_food[0]], df_food[colums_food[1]], c=\"red\")\n",
    "plt.plot(df_food[colums_food[0]], y_d, c=\"green\")\n",
    "plt.show()"
   ]
  },
  {
   "cell_type": "code",
   "execution_count": 5,
   "id": "provincial-discharge",
   "metadata": {},
   "outputs": [
    {
     "data": {
      "image/png": "[encoded data removed]",
      "text/plain": [
       "<Figure size 432x288 with 1 Axes>"
      ]
     },
     "metadata": {
      "needs_background": "light"
     },
     "output_type": "display_data"
    }
   ],
   "source": [
    "## Funcao custo\n",
    "epochs_x = np.arange(num_epochs)\n",
    "plt.plot(epochs_x, costs_epoch, label=\"Costs\", c=\"red\")\n",
    "plt.xlabel(\"Iterations\")\n",
    "plt.ylabel(\"Cost function\")\n",
    "plt.legend()\n",
    "plt.show()"
   ]
  },
  {
   "cell_type": "markdown",
   "id": "similar-perry",
   "metadata": {},
   "source": [
    "# Questão 2 - Regressão linear com múltiplas variáveis\n",
    "Nesta parte, implementaremos a regressão linear com múltiplas variáveis para  prever  o  preço  de  uma  casa.  Supondo que estamos vendendo uma casa  e  queremos  saber  qual  seria  um  bom  preço  de  acordo  com  o mercado. Dessa forma, uma maneira de fazer isso seria coletar informações sobre as casas que foram vendidas  recentemente e fazer um  modelo de previsão de preços.\n",
    "\n",
    "O  arquivo  “data2.txt”  contém  um  conjunto  de  treinamento  de  preços  de casas  em  Portland,  Oregon.  A  primeira  coluna  representa  o  tamanho  da casa (em metros quadrados), a segunda o número de quartos e terceira o \n",
    "preço da casa.\n",
    "\n",
    "### 1) *Feature Normalization*\n",
    "Começamos  carregando  e  exibindo  alguns  valores  a  partir  deste  conjunto  de dados.  Olhando para os valores, note que a dimensão relativa ao tamanho das casas é cerca de 1000 vezes maior que o número de quartos. Quando as features  diferem  por uma elevada  ordem de magnitude,  reescalonar a dimensão das features pode fazer a descida do gradiente convergir muito mais rapidamente. "
   ]
  },
  {
   "cell_type": "code",
   "execution_count": 6,
   "id": "final-frederick",
   "metadata": {},
   "outputs": [
    {
     "data": {
      "text/html": [
       "<div>\n",
       "<style scoped>\n",
       "    .dataframe tbody tr th:only-of-type {\n",
       "        vertical-align: middle;\n",
       "    }\n",
       "\n",
       "    .dataframe tbody tr th {\n",
       "        vertical-align: top;\n",
       "    }\n",
       "\n",
       "    .dataframe thead th {\n",
       "        text-align: right;\n",
       "    }\n",
       "</style>\n",
       "<table border=\"1\" class=\"dataframe\">\n",
       "  <thead>\n",
       "    <tr style=\"text-align: right;\">\n",
       "      <th></th>\n",
       "      <th>size</th>\n",
       "      <th>bedrooms</th>\n",
       "      <th>price</th>\n",
       "    </tr>\n",
       "  </thead>\n",
       "  <tbody>\n",
       "    <tr>\n",
       "      <th>0</th>\n",
       "      <td>2104</td>\n",
       "      <td>3</td>\n",
       "      <td>399900</td>\n",
       "    </tr>\n",
       "    <tr>\n",
       "      <th>1</th>\n",
       "      <td>1600</td>\n",
       "      <td>3</td>\n",
       "      <td>329900</td>\n",
       "    </tr>\n",
       "    <tr>\n",
       "      <th>2</th>\n",
       "      <td>2400</td>\n",
       "      <td>3</td>\n",
       "      <td>369000</td>\n",
       "    </tr>\n",
       "    <tr>\n",
       "      <th>3</th>\n",
       "      <td>1416</td>\n",
       "      <td>2</td>\n",
       "      <td>232000</td>\n",
       "    </tr>\n",
       "    <tr>\n",
       "      <th>4</th>\n",
       "      <td>3000</td>\n",
       "      <td>4</td>\n",
       "      <td>539900</td>\n",
       "    </tr>\n",
       "  </tbody>\n",
       "</table>\n",
       "</div>"
      ],
      "text/plain": [
       "   size  bedrooms   price\n",
       "0  2104         3  399900\n",
       "1  1600         3  329900\n",
       "2  2400         3  369000\n",
       "3  1416         2  232000\n",
       "4  3000         4  539900"
      ]
     },
     "execution_count": 6,
     "metadata": {},
     "output_type": "execute_result"
    }
   ],
   "source": [
    "df_house = pd.read_csv(df_paths[1], delimiter=\",\", header=None, names=[\"size\", \"bedrooms\", \"price\"])\n",
    "df_house.head()"
   ]
  },
  {
   "cell_type": "code",
   "execution_count": 7,
   "id": "embedded-delay",
   "metadata": {},
   "outputs": [],
   "source": [
    "def normalization(column):\n",
    "    std_deviation = column.std(axis=0, skipna=True)\n",
    "    mean = column.mean(axis=0, skipna=True)\n",
    "    \n",
    "    normalized_column = []\n",
    "    for index, element in enumerate(column):\n",
    "        normalized_column.append((element - mean) / std_deviation)\n",
    "    return normalized_column\n",
    "\n",
    "size = df_house[\"size\"]\n",
    "price = df_house[\"price\"]\n",
    "bedrooms = df_house[\"bedrooms\"]"
   ]
  },
  {
   "cell_type": "code",
   "execution_count": 8,
   "id": "empty-cache",
   "metadata": {},
   "outputs": [],
   "source": [
    "# Mostra a normalização correta\n",
    "size_norm = normalization(size)\n",
    "bedrooms_norm = normalization(bedrooms)"
   ]
  },
  {
   "cell_type": "markdown",
   "id": "rising-board",
   "metadata": {},
   "source": [
    "###  2) Gradiente Descendente\n",
    "Nesta  parte,  iremos  calcular  os  parâmetros  da  regressão  linear  e  a função  custo  para  o  conjunto  de  dados,  utilizando  diferentes  taxas  de aprendizado para estudar o seu efeito na convergência. \n",
    "\n",
    "Plotaremos a função custo em relação ao número de iterações para ver o seu decaimento.\n",
    "\n",
    "##### Alpha 0.01"
   ]
  },
  {
   "cell_type": "code",
   "execution_count": 9,
   "id": "statistical-township",
   "metadata": {},
   "outputs": [],
   "source": [
    "def h_multiple_function(coeffs, x_1, x_2):\n",
    "    result = 0 \n",
    "    \n",
    "    for index, coeff in enumerate(coeffs):\n",
    "        if index == 0:\n",
    "            result += coeff\n",
    "        elif index==1:\n",
    "            result += coeff * x_1\n",
    "        else:\n",
    "            result += coeff * x_2\n",
    "    return result\n",
    "\n",
    "def evaluated_multiple_func(thetas):\n",
    "    y_d = []    \n",
    "    for i, _ in enumerate(size_norm):\n",
    "        y_d.append(h_multiple_function(thetas, size_norm[i], bedrooms_norm[i]))\n",
    "    return y_d"
   ]
  },
  {
   "cell_type": "code",
   "execution_count": 10,
   "id": "biblical-chart",
   "metadata": {},
   "outputs": [],
   "source": [
    "## Define variáveis iniciais\n",
    "# Funcao desejada y_d\n",
    "y_d = [] \n",
    "thetas = np.array([0, 1, 2])\n",
    "num_epochs = 500\n",
    "alpha = 0.01\n",
    "\n",
    "costs_epoch = []\n",
    "\n",
    "# Executa iterativamente\n",
    "for i in range(num_epochs):\n",
    "\n",
    "    y_d = evaluated_multiple_func(thetas)\n",
    "    error = y_d - df_house[\"price\"]\n",
    "    cost = (error.sum() ** 2)/(2 * len(price))\n",
    "    costs_epoch.append(cost)\n",
    "\n",
    "    temp = np.zeros(len(thetas))\n",
    "    for j in range(0, len(y_d)):\n",
    "        error_temp = (y_d[j] - price[j])\n",
    "        for k, _ in enumerate(thetas):\n",
    "            if k == 0:\n",
    "                temp[k] += error_temp\n",
    "            elif k % 2 == 1:\n",
    "                temp[k] += error_temp * size_norm[j]\n",
    "            else:\n",
    "                temp[k] += error_temp * bedrooms_norm[j]\n",
    "    thetas = thetas - alpha * (temp/len(size_norm))"
   ]
  },
  {
   "cell_type": "code",
   "execution_count": 11,
   "id": "planned-composition",
   "metadata": {
    "scrolled": false
   },
   "outputs": [
    {
     "data": {
      "image/png": "[encoded data removed]",
      "text/plain": [
       "<Figure size 432x288 with 1 Axes>"
      ]
     },
     "metadata": {
      "needs_background": "light"
     },
     "output_type": "display_data"
    },
    {
     "name": "stdout",
     "output_type": "stream",
     "text": [
      "Thetas: [3.38175984e+05 1.03831060e+05 1.03089195e+02]\n"
     ]
    }
   ],
   "source": [
    "## Funcao custo\n",
    "epochs_x = np.arange(num_epochs)\n",
    "plt.plot(epochs_x, costs_epoch, label=\"Costs\", c=\"red\")\n",
    "plt.xlabel(\"Iterations\")\n",
    "plt.ylabel(\"Cost function\")\n",
    "plt.legend()\n",
    "plt.show()\n",
    "print(f\"Thetas: {thetas}\")"
   ]
  },
  {
   "cell_type": "markdown",
   "id": "macro-mount",
   "metadata": {},
   "source": [
    "##### Alpha 0.001 (decaimento mais lento)"
   ]
  },
  {
   "cell_type": "code",
   "execution_count": 12,
   "id": "engaged-bermuda",
   "metadata": {},
   "outputs": [],
   "source": [
    "## Define variáveis iniciais\n",
    "# Funcao desejada y_d\n",
    "y_d = [] \n",
    "thetas = np.array([0, 1, 2])\n",
    "num_epochs = 500\n",
    "alpha = 0.001\n",
    "\n",
    "costs_epoch = []\n",
    "\n",
    "# Executa iterativamente\n",
    "for i in range(num_epochs):\n",
    "\n",
    "    y_d = evaluated_multiple_func(thetas)\n",
    "    error = y_d - df_house[\"price\"]\n",
    "    cost = (error.sum() ** 2)/(2 * len(price))\n",
    "    costs_epoch.append(cost)\n",
    "\n",
    "    temp = np.zeros(len(thetas))\n",
    "    for j in range(0, len(y_d)):\n",
    "        error_temp = (y_d[j] - price[j])\n",
    "        for k, _ in enumerate(thetas):\n",
    "            if k == 0:\n",
    "                temp[k] += error_temp\n",
    "            elif k % 2 == 1:\n",
    "                temp[k] += error_temp * size_norm[j]\n",
    "            else:\n",
    "                temp[k] += error_temp * bedrooms_norm[j]\n",
    "    thetas = thetas - alpha * (temp/len(size_norm))"
   ]
  },
  {
   "cell_type": "code",
   "execution_count": 13,
   "id": "sexual-medicaid",
   "metadata": {},
   "outputs": [
    {
     "data": {
      "image/png": "[encoded data removed]",
      "text/plain": [
       "<Figure size 432x288 with 1 Axes>"
      ]
     },
     "metadata": {
      "needs_background": "light"
     },
     "output_type": "display_data"
    },
    {
     "name": "stdout",
     "output_type": "stream",
     "text": [
      "Thetas: [133993.59024431  39135.61636268  16411.41380159]\n"
     ]
    }
   ],
   "source": [
    "## Funcao custo\n",
    "epochs_x = np.arange(num_epochs)\n",
    "plt.plot(epochs_x, costs_epoch, label=\"Costs\", c=\"red\")\n",
    "plt.xlabel(\"Iterations\")\n",
    "plt.ylabel(\"Cost function\")\n",
    "plt.legend()\n",
    "plt.show()\n",
    "print(f\"Thetas: {thetas}\")"
   ]
  },
  {
   "cell_type": "markdown",
   "id": "collectible-lingerie",
   "metadata": {},
   "source": [
    "##### Alpha 0.1 (decaimento brusco)"
   ]
  },
  {
   "cell_type": "code",
   "execution_count": 14,
   "id": "cooked-cocktail",
   "metadata": {},
   "outputs": [],
   "source": [
    "## Define variáveis iniciais\n",
    "# Funcao desejada y_d\n",
    "y_d = [] \n",
    "thetas = np.array([0, 1, 2])\n",
    "num_epochs = 500\n",
    "alpha = 0.1\n",
    "\n",
    "costs_epoch = []\n",
    "\n",
    "# Executa iterativamente\n",
    "for i in range(num_epochs):\n",
    "\n",
    "    y_d = evaluated_multiple_func(thetas)\n",
    "    error = y_d - df_house[\"price\"]\n",
    "    cost = (error.sum() ** 2)/(2 * len(price))\n",
    "    costs_epoch.append(cost)\n",
    "\n",
    "    temp = np.zeros(len(thetas))\n",
    "    for j in range(0, len(y_d)):\n",
    "        error_temp = (y_d[j] - price[j])\n",
    "        for k, _ in enumerate(thetas):\n",
    "            if k == 0:\n",
    "                temp[k] += error_temp\n",
    "            elif k % 2 == 1:\n",
    "                temp[k] += error_temp * size_norm[j]\n",
    "            else:\n",
    "                temp[k] += error_temp * bedrooms_norm[j]\n",
    "    thetas = thetas - alpha * (temp/len(size_norm))"
   ]
  },
  {
   "cell_type": "code",
   "execution_count": 15,
   "id": "brief-peoples",
   "metadata": {},
   "outputs": [
    {
     "data": {
      "image/png": "[encoded data removed]",
      "text/plain": [
       "<Figure size 432x288 with 1 Axes>"
      ]
     },
     "metadata": {
      "needs_background": "light"
     },
     "output_type": "display_data"
    },
    {
     "name": "stdout",
     "output_type": "stream",
     "text": [
      "Thetas: [340412.65957447 110631.05026267  -6649.47425464]\n"
     ]
    }
   ],
   "source": [
    "## Funcao custo\n",
    "epochs_x = np.arange(num_epochs)\n",
    "plt.plot(epochs_x, costs_epoch, label=\"Costs\", c=\"red\")\n",
    "plt.xlabel(\"Iterations\")\n",
    "plt.ylabel(\"Cost function\")\n",
    "plt.legend()\n",
    "plt.show()\n",
    "print(f\"Thetas: {thetas}\")"
   ]
  },
  {
   "cell_type": "markdown",
   "id": "aggregate-sense",
   "metadata": {},
   "source": [
    "### 3) Podemos traçar o ajuste linear?\n",
    "\n",
    "Não podemos com a visualização em duas dimensões, pela dimensão superior da hipótese, que contém duas *features*."
   ]
  },
  {
   "attachments": {
    "image.png": {
     "image/png": "[encoded data removed]"
    }
   },
   "cell_type": "markdown",
   "id": "expanded-green",
   "metadata": {},
   "source": [
    "# Questão 3 - Equação Normal\n",
    "![image.png](attachment:image.png)"
   ]
  },
  {
   "cell_type": "code",
   "execution_count": 16,
   "id": "rental-biography",
   "metadata": {},
   "outputs": [],
   "source": [
    "# Usando a biblioteca numpy para operações de matrizes (linalg - linear algebra)\n",
    "def normal(X, y):\n",
    "    return np.linalg.inv(X.T.dot(X)).dot(X.T).dot(y)"
   ]
  },
  {
   "cell_type": "code",
   "execution_count": 17,
   "id": "romantic-issue",
   "metadata": {},
   "outputs": [
    {
     "data": {
      "text/html": [
       "<div>\n",
       "<style scoped>\n",
       "    .dataframe tbody tr th:only-of-type {\n",
       "        vertical-align: middle;\n",
       "    }\n",
       "\n",
       "    .dataframe tbody tr th {\n",
       "        vertical-align: top;\n",
       "    }\n",
       "\n",
       "    .dataframe thead th {\n",
       "        text-align: right;\n",
       "    }\n",
       "</style>\n",
       "<table border=\"1\" class=\"dataframe\">\n",
       "  <thead>\n",
       "    <tr style=\"text-align: right;\">\n",
       "      <th></th>\n",
       "      <th>size</th>\n",
       "      <th>bedrooms</th>\n",
       "    </tr>\n",
       "  </thead>\n",
       "  <tbody>\n",
       "    <tr>\n",
       "      <th>0</th>\n",
       "      <td>0.130010</td>\n",
       "      <td>-0.223675</td>\n",
       "    </tr>\n",
       "    <tr>\n",
       "      <th>1</th>\n",
       "      <td>-0.504190</td>\n",
       "      <td>-0.223675</td>\n",
       "    </tr>\n",
       "    <tr>\n",
       "      <th>2</th>\n",
       "      <td>0.502476</td>\n",
       "      <td>-0.223675</td>\n",
       "    </tr>\n",
       "    <tr>\n",
       "      <th>3</th>\n",
       "      <td>-0.735723</td>\n",
       "      <td>-1.537767</td>\n",
       "    </tr>\n",
       "    <tr>\n",
       "      <th>4</th>\n",
       "      <td>1.257476</td>\n",
       "      <td>1.090417</td>\n",
       "    </tr>\n",
       "  </tbody>\n",
       "</table>\n",
       "</div>"
      ],
      "text/plain": [
       "       size  bedrooms\n",
       "0  0.130010 -0.223675\n",
       "1 -0.504190 -0.223675\n",
       "2  0.502476 -0.223675\n",
       "3 -0.735723 -1.537767\n",
       "4  1.257476  1.090417"
      ]
     },
     "execution_count": 17,
     "metadata": {},
     "output_type": "execute_result"
    }
   ],
   "source": [
    "## Transformar os dados de colunas de DataFrame para uma matriz do numpy\n",
    "features = pd.DataFrame()\n",
    "features[\"size\"] = size_norm\n",
    "features[\"bedrooms\"] = bedrooms_norm\n",
    "features.head()"
   ]
  },
  {
   "cell_type": "code",
   "execution_count": 18,
   "id": "successful-essay",
   "metadata": {},
   "outputs": [],
   "source": [
    "# Inserimos uma coluna com 1's em cada uma das matrizes\n",
    "X = features.to_numpy()\n",
    "X = np.insert(X, 0, np.ones(len(X)), axis=1)\n",
    "\n",
    "y = price.to_numpy()"
   ]
  },
  {
   "cell_type": "code",
   "execution_count": 19,
   "id": "ordinary-observation",
   "metadata": {},
   "outputs": [
    {
     "name": "stdout",
     "output_type": "stream",
     "text": [
      "Mean Square Error utilizando Equação Normal: 5.190329549132734e-21\n",
      "Thetas: [340412.65957447 110631.05027885  -6649.47427082]\n"
     ]
    }
   ],
   "source": [
    "# Calculamos a normal\n",
    "thetas = normal(X, y)\n",
    "y_d = thetas.T.dot(X.T)\n",
    "\n",
    "error = ((y_d - y).sum() ** 2) / (2*len(price))\n",
    "print(f\"Mean Square Error utilizando Equação Normal: {error}\")\n",
    "print(f\"Thetas: {thetas}\")"
   ]
  }
 ],
 "metadata": {
  "kernelspec": {
   "display_name": "Python 3",
   "language": "python",
   "name": "python3"
  },
  "language_info": {
   "codemirror_mode": {
    "name": "ipython",
    "version": 3
   },
   "file_extension": ".py",
   "mimetype": "text/x-python",
   "name": "python",
   "nbconvert_exporter": "python",
   "pygments_lexer": "ipython3",
   "version": "3.9.6"
  }
 },
 "nbformat": 4,
 "nbformat_minor": 5
}

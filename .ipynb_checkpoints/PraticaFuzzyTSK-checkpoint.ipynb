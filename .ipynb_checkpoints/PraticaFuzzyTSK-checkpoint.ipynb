{
 "cells": [
  {
   "cell_type": "markdown",
   "id": "studied-responsibility",
   "metadata": {},
   "source": [
    "# Modelo *Fuzzy* TSK\n",
    "Por Gabriel Negreiros Lima"
   ]
  },
  {
   "cell_type": "markdown",
   "id": "coastal-efficiency",
   "metadata": {},
   "source": [
    "A função desejada é `x²`, plotada abaixo."
   ]
  },
  {
   "cell_type": "code",
   "execution_count": 8,
   "id": "preceding-geometry",
   "metadata": {},
   "outputs": [
    {
     "data": {
      "image/png": "[encoded data removed]",
      "text/plain": [
       "<Figure size 432x288 with 1 Axes>"
      ]
     },
     "metadata": {
      "needs_background": "light"
     },
     "output_type": "display_data"
    }
   ],
   "source": [
    "import numpy as np\n",
    "import matplotlib.pyplot as plt\n",
    "\n",
    "# 100 pontos igualmente espaçados entre -4 e 4\n",
    "x = np.linspace(-4, 4, num=100)\n",
    "\n",
    "# saída desejada\n",
    "y_d = x**2\n",
    "\n",
    "plt.plot(x,y_d, 'r', label='Função desejada: y=x²')\n",
    "plt.legend()\n",
    "plt.show()"
   ]
  },
  {
   "cell_type": "markdown",
   "id": "metallic-frank",
   "metadata": {},
   "source": [
    "Primeiramente precisamos iniciar com valores aleatórios todos os parâmetros:"
   ]
  },
  {
   "cell_type": "code",
   "execution_count": 37,
   "id": "incomplete-klein",
   "metadata": {},
   "outputs": [
    {
     "data": {
      "text/plain": [
       "-1.3885159044388158"
      ]
     },
     "execution_count": 37,
     "metadata": {},
     "output_type": "execute_result"
    }
   ],
   "source": [
    "import random\n",
    "\n",
    "def random_point():\n",
    "  return random.random()*4 - 2 # returns between -2.0 and 2.0\n",
    "\n",
    "p1 = random_point()\n",
    "q1 = random_point()\n",
    "p2 = random_point()\n",
    "q2 = random_point()\n",
    "x_mean_1 = random_point()\n",
    "x_mean_2 = random_point()\n",
    "std_deviation_1 = random_point()\n",
    "std_deviation_2 = random_point()\n",
    "\n",
    "alpha = 0.1"
   ]
  },
  {
   "cell_type": "markdown",
   "id": "subject-cookbook",
   "metadata": {},
   "source": [
    "Definimos as funções dos slides (gaussiana para obter `w` e a função `y`): "
   ]
  },
  {
   "cell_type": "code",
   "execution_count": 13,
   "id": "dominican-halifax",
   "metadata": {},
   "outputs": [],
   "source": [
    "import math\n",
    "\n",
    "def gaussian(x, mean, std_deviation):\n",
    "    return math.exp(-(1/2)*((x - mean)/std_deviation)**2)\n",
    "\n",
    "def y(p, x, q):\n",
    "    return p*x + q"
   ]
  },
  {
   "cell_type": "markdown",
   "id": "together-float",
   "metadata": {},
   "source": [
    "Definimos um vetor com 1000 pontos aleatórios: "
   ]
  },
  {
   "cell_type": "code",
   "execution_count": 43,
   "id": "entertaining-parent",
   "metadata": {},
   "outputs": [],
   "source": [
    "def init_x(quantity):\n",
    "    x = []\n",
    "    for _ in range(quantity):\n",
    "        rp = random_point()            \n",
    "        x.append(rp)\n",
    "    return x\n",
    "\n",
    "x = init_x(1000)"
   ]
  }
 ],
 "metadata": {
  "kernelspec": {
   "display_name": "Python 3",
   "language": "python",
   "name": "python3"
  },
  "language_info": {
   "codemirror_mode": {
    "name": "ipython",
    "version": 3
   },
   "file_extension": ".py",
   "mimetype": "text/x-python",
   "name": "python",
   "nbconvert_exporter": "python",
   "pygments_lexer": "ipython3",
   "version": "3.9.6"
  }
 },
 "nbformat": 4,
 "nbformat_minor": 5
}

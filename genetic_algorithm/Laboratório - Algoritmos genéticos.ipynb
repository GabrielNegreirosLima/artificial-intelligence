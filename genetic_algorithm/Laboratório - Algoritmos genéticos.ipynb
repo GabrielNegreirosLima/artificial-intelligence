{
 "cells": [
  {
   "attachments": {
    "image-2.png": {
     "image/png": "[encoded data removed]"
    },
    "image.png": {
     "image/png": "[encoded data removed]"
    }
   },
   "cell_type": "markdown",
   "id": "forty-general",
   "metadata": {},
   "source": [
    "# Algoritmos Genéticos\n",
    "> O algoritmo completo se encontra no final do notebook, várias funções são criados no caminho.\n",
    "\n",
    "### Gabriel Negreiros Lima\n",
    "\n",
    "1. Implementar um algoritmo genético para resolver o problema de maximização da função Alpine 2\n",
    "\n",
    "![image.png](attachment:image.png)\n",
    "\n",
    "Nesta equação, n representa o número de dimensões e x_i pertencente a [0,10] para i = 1, ..., n. \n",
    "\n",
    "## Representação\n",
    "Neste trabalho teremos n = 2, portanto:\n",
    "\n",
    "![image-2.png](attachment:image-2.png)\n",
    "\n",
    "O Máximo Global da função é igual a `f(x^*)=2.808^n => f(x1,x2)=7.88`."
   ]
  },
  {
   "cell_type": "markdown",
   "id": "structured-happiness",
   "metadata": {},
   "source": [
    "## Função *fitness*\n",
    "A função de aptidão utilizada será `f_fit(x) = f(x) + 7.88`, que em módulo é o máximo e mínimo desta função, e desta forma não teremos resultados negativos na função *fitness*. Neste trabalho avaliaremos com 3 casas decimais."
   ]
  },
  {
   "cell_type": "code",
   "execution_count": 163,
   "id": "billion-rainbow",
   "metadata": {
    "scrolled": true
   },
   "outputs": [
    {
     "data": {
      "text/plain": [
       "15.765600701977823"
      ]
     },
     "execution_count": 163,
     "metadata": {},
     "output_type": "execute_result"
    }
   ],
   "source": [
    "import math\n",
    "from random import randint\n",
    "import numpy as np\n",
    "\n",
    "def f_alpine02(x, y):\n",
    "    return math.sqrt(x)*math.sin(x) * math.sqrt(y)*math.sin(y)\n",
    "\n",
    "def f_fit(x, y):\n",
    "    return f_alpine02(x, y) + 7.88\n",
    "\n",
    "MAX_ALPINE = f_fit(7.917, 7.917) # 7.88 * 2\n",
    "MAX_ALPINE"
   ]
  },
  {
   "cell_type": "markdown",
   "id": "younger-catalog",
   "metadata": {},
   "source": [
    "## População inicial"
   ]
  },
  {
   "cell_type": "code",
   "execution_count": 228,
   "id": "finnish-sugar",
   "metadata": {},
   "outputs": [
    {
     "data": {
      "text/plain": [
       "array([[6.051, 6.556],\n",
       "       [2.455, 8.542],\n",
       "       [7.989, 3.999],\n",
       "       [6.417, 4.254],\n",
       "       [7.484, 8.605],\n",
       "       [2.482, 5.508],\n",
       "       [7.446, 0.884],\n",
       "       [3.012, 9.68 ],\n",
       "       [7.024, 2.577],\n",
       "       [0.423, 1.83 ],\n",
       "       [0.237, 3.262],\n",
       "       [9.307, 2.189],\n",
       "       [1.942, 0.473],\n",
       "       [7.968, 9.485],\n",
       "       [3.635, 1.432],\n",
       "       [4.724, 1.734],\n",
       "       [8.643, 4.808],\n",
       "       [6.756, 0.686],\n",
       "       [9.311, 7.306],\n",
       "       [7.95 , 6.867],\n",
       "       [5.628, 5.89 ],\n",
       "       [3.641, 0.952],\n",
       "       [9.411, 2.848],\n",
       "       [6.638, 7.857],\n",
       "       [9.594, 5.268],\n",
       "       [8.824, 5.868],\n",
       "       [9.557, 9.6  ],\n",
       "       [8.514, 1.452],\n",
       "       [4.999, 2.101],\n",
       "       [5.486, 5.166],\n",
       "       [1.016, 1.555],\n",
       "       [4.428, 8.791],\n",
       "       [8.964, 3.333],\n",
       "       [7.976, 4.648],\n",
       "       [4.28 , 6.714],\n",
       "       [5.02 , 5.996],\n",
       "       [0.791, 4.673],\n",
       "       [9.348, 4.872],\n",
       "       [4.886, 1.42 ],\n",
       "       [0.089, 2.97 ],\n",
       "       [4.729, 5.924],\n",
       "       [4.775, 6.126],\n",
       "       [2.94 , 1.436],\n",
       "       [2.502, 2.797],\n",
       "       [7.377, 1.418],\n",
       "       [0.429, 5.864],\n",
       "       [9.43 , 8.053],\n",
       "       [7.695, 7.495],\n",
       "       [9.484, 9.853],\n",
       "       [0.654, 5.828]])"
      ]
     },
     "execution_count": 228,
     "metadata": {},
     "output_type": "execute_result"
    }
   ],
   "source": [
    "NUMBER_OF_INDIVIDUALS = 50\n",
    "NUMBER_OF_PARENTS = int(NUMBER_OF_INDIVIDUALS/2)\n",
    "\n",
    "x_s = [np.random.uniform(0,10) for _ in range(0,NUMBER_OF_INDIVIDUALS)]\n",
    "y_s = [np.random.uniform(0,10) for _ in range(0,NUMBER_OF_INDIVIDUALS)]\n",
    "population = np.zeros((NUMBER_OF_INDIVIDUALS,2))\n",
    "\n",
    "for index, element in enumerate(x_s):\n",
    "    x_s[index] = round(x_s[index], 3)\n",
    "    y_s[index] = round(y_s[index], 3)\n",
    "    population[index][0] = x_s[index]\n",
    "    population[index][1] = y_s[index]\n",
    "\n",
    "population"
   ]
  },
  {
   "cell_type": "markdown",
   "id": "normal-neighbor",
   "metadata": {},
   "source": [
    "## Seleção: roleta\n",
    "Para fazer a seleção da roleta, iremos utilizar a função `f_fit` para gerar a roleta:"
   ]
  },
  {
   "cell_type": "code",
   "execution_count": 225,
   "id": "separate-prior",
   "metadata": {},
   "outputs": [
    {
     "data": {
      "text/plain": [
       "array([7.944, 6.914])"
      ]
     },
     "execution_count": 225,
     "metadata": {},
     "output_type": "execute_result"
    }
   ],
   "source": [
    "X_POS = 0 \n",
    "Y_POS = 1\n",
    "\n",
    "def roleta(population):\n",
    "    sum_fitness = 0\n",
    "    sum_by_individual = []\n",
    "    temp = np.array([])                       # temporary to save the fitness\n",
    "    number_of_rows, _ = population.shape      # population size\n",
    "    fitnesses = np.zeros((number_of_rows,2))  # matrix with position and fitness of each one\n",
    "    position = 0\n",
    "    \n",
    "    # saves all fitnesses and position of the individual\n",
    "    for i in population:\n",
    "        temp = f_fit(i[X_POS], i[Y_POS]) \n",
    "        fitnesses[position][0] = position\n",
    "        fitnesses[position][1] = temp\n",
    "        position += 1\n",
    "    \n",
    "    # sort by fitnesses\n",
    "    fitnesses = fitnesses[fitnesses[:, 1].argsort()]\n",
    "    #print(fitnesses, population[1])\n",
    "    \n",
    "    for fit in fitnesses:\n",
    "        sum_fitness += fit[1]  \n",
    "        sum_by_individual.append([\n",
    "            fit[0],\n",
    "            sum_fitness\n",
    "        ])   \n",
    "            \n",
    "    sum_fitness = int(sum_fitness * 1000)  # make it a integer to ease\n",
    "    rand_value = randint(0, sum_fitness)   # randomizing\n",
    "    \n",
    "    #print(f\"sum by individual with index: \\n{sum_by_individual}\")\n",
    "    rand_value = float(rand_value / 1000)   # make it back to float\n",
    "    sum_fitness = float(sum_fitness / 1000)\n",
    "    \n",
    "    \n",
    "    # find the first element that has fitness sum greater than random\n",
    "    #print(f\"sum_fitness_total: {sum_fitness}\")\n",
    "    #print(f\"rand_value: {rand_value}\")\n",
    "    for ind_with_sum  in sum_by_individual:\n",
    "        if ind_with_sum[1] >= rand_value: \n",
    "            #print(f\"index of the individual and fitness sum: {ind_with_sum}\")\n",
    "            #print(f\"individual: {population[int(ind_with_sum[0])]}\")\n",
    "            return population[int(ind_with_sum[0])]\n",
    "        \n",
    "        \n",
    "roleta(population)"
   ]
  },
  {
   "cell_type": "markdown",
   "id": "adequate-occurrence",
   "metadata": {},
   "source": [
    "Agora que temos a função roleta, podemos selecionar os pais da próxima geração. Para uma população definida na variável NUMBER_OF_INDIVIDUALS, elegemos a metade de casais que serão os pais, e então estes serão passados para o cruzamento. Como no exemplo abaixo."
   ]
  },
  {
   "cell_type": "code",
   "execution_count": 6,
   "id": "rental-share",
   "metadata": {
    "scrolled": true
   },
   "outputs": [
    {
     "data": {
      "text/plain": [
       "array([[6.001, 0.812],\n",
       "       [8.693, 1.66 ],\n",
       "       [5.938, 8.812],\n",
       "       [7.712, 9.199],\n",
       "       [8.864, 1.161],\n",
       "       [2.205, 5.275],\n",
       "       [4.958, 4.915],\n",
       "       [4.911, 6.055],\n",
       "       [9.3  , 6.796],\n",
       "       [7.138, 2.801],\n",
       "       [4.958, 4.915],\n",
       "       [1.069, 1.396],\n",
       "       [4.958, 4.915],\n",
       "       [8.864, 1.161],\n",
       "       [8.446, 1.918],\n",
       "       [8.693, 1.66 ],\n",
       "       [3.56 , 4.726],\n",
       "       [0.208, 7.008],\n",
       "       [4.911, 6.055],\n",
       "       [3.144, 0.734],\n",
       "       [9.087, 1.608],\n",
       "       [3.881, 7.615],\n",
       "       [9.731, 2.713],\n",
       "       [3.988, 7.906],\n",
       "       [1.725, 0.775]])"
      ]
     },
     "execution_count": 6,
     "metadata": {},
     "output_type": "execute_result"
    }
   ],
   "source": [
    "def select_parents(population):\n",
    "    \n",
    "    parents = np.zeros((NUMBER_OF_PARENTS,2))\n",
    "    for index in range(0,int(NUMBER_OF_PARENTS)):\n",
    "        parents[index] = roleta(population)\n",
    "    return parents\n",
    "        \n",
    "parents = select_parents(population)\n",
    "parents"
   ]
  },
  {
   "cell_type": "markdown",
   "id": "alpha-surname",
   "metadata": {},
   "source": [
    "## Operadores Genéticos\n",
    "### Crossover aritmético\n",
    "Dados dois indivíduos, constituiremos um novo par de indivíduos"
   ]
  },
  {
   "cell_type": "code",
   "execution_count": 88,
   "id": "limiting-swiss",
   "metadata": {},
   "outputs": [
    {
     "name": "stdout",
     "output_type": "stream",
     "text": [
      "[6.512, 0.973] [9.322, 1.499]\n"
     ]
    }
   ],
   "source": [
    "def crossover(parent_a, parent_b):\n",
    "    \n",
    "    a_x = -1\n",
    "    a_y = -1\n",
    "    b_x = -1\n",
    "    b_y = -1\n",
    "    \n",
    "    while a_x < 0 or a_y < 0 or b_x < 0 or b_y < 0 or a_x > 10.0 or a_y > 10.0 or b_x > 10.0 or b_y > 10.0:\n",
    "        alpha = randint(0,100)/100\n",
    "        Pa_x = parent_a[0]\n",
    "        Pa_y = parent_a[1]\n",
    "        Pb_x = parent_b[0]\n",
    "        Pb_y = parent_b[1]\n",
    "        \n",
    "        a_x = round((alpha * Pa_x + (1 - alpha)* Pb_x), 3)\n",
    "        a_y = round((alpha * Pa_y + (1 - alpha)* Pb_y), 3)\n",
    "\n",
    "        b_x = round((alpha * Pb_x + (1 - alpha)* Pa_x) + (1 - alpha)*parent_a[0], 3)\n",
    "        b_y = round((alpha * Pb_y + (1 - alpha)* Pa_y), 3)\n",
    "    \n",
    "    children_a = [a_x, a_y]\n",
    "    children_b = [b_x, b_y]\n",
    "    \n",
    "    return (children_a, children_b)\n",
    "\n",
    "children_a, children_b = crossover(parents[0], parents[1])\n",
    "print(children_a, children_b)"
   ]
  },
  {
   "cell_type": "markdown",
   "id": "acute-absence",
   "metadata": {},
   "source": [
    "### Mutação Gaussiana\n",
    "Dado um indivíduo, realizar uma mudança local com um ajuste aleatório em ambas as posições:"
   ]
  },
  {
   "cell_type": "code",
   "execution_count": 8,
   "id": "magnetic-character",
   "metadata": {},
   "outputs": [
    {
     "name": "stdout",
     "output_type": "stream",
     "text": [
      "[8.864 1.161] [8.864 1.161]\n"
     ]
    }
   ],
   "source": [
    "def mutation(individual): \n",
    "    max_range_value = 2\n",
    "    \n",
    "    signal = randint(0, 3)  # 0 = + + | 1 = + - | 2 = - + | 3 = - - \n",
    "    delta_x = randint(0, max_range_value*1000)/1000 # same logic from roleta\n",
    "    delta_y = randint(0, max_range_value*1000)/1000 \n",
    "    \n",
    "    probability = 5   # 0.5% \n",
    "    decisor = randint(1, 1000)\n",
    "    \n",
    "    if decisor <= probability:\n",
    "        \n",
    "        # signal choise\n",
    "        if signal == 0:\n",
    "            new_x = individual[0]+delta_x\n",
    "            new_y = individual[1]+delta_y\n",
    "        elif signal == 1:\n",
    "            new_x = individual[0]+delta_x\n",
    "            new_y = individual[1]-delta_y\n",
    "        elif signal == 2:\n",
    "            new_x = individual[0]-delta_x\n",
    "            new_y = individual[1]+delta_y\n",
    "        elif signal == 3:\n",
    "            new_x = individual[0]-delta_x\n",
    "            new_y = individual[1]-delta_y\n",
    "        \n",
    "        # boundaries\n",
    "        if new_x > 10.0:\n",
    "            new_x = 10.0\n",
    "        elif new_x < 0:\n",
    "            new_x = 0\n",
    "        \n",
    "        if new_y > 10.0:\n",
    "            new_y = 10.0\n",
    "        elif new_y < 0:\n",
    "            new_y = 0\n",
    "            \n",
    "        return [round(new_x, 3), round(new_y, 3)]\n",
    "    \n",
    "    return individual\n",
    "\n",
    "mutated = mutation(parents[4])\n",
    "print(parents[4], mutated)"
   ]
  },
  {
   "cell_type": "markdown",
   "id": "editorial-conditions",
   "metadata": {},
   "source": [
    "## Mais algumas funções auxiliares\n",
    "### Fitnesses para plots\n",
    "Dada uma população, precisaremos do maior fitness, do menor, e do fitness médio para criar o gráfico de convergência."
   ]
  },
  {
   "cell_type": "code",
   "execution_count": 9,
   "id": "wrapped-plain",
   "metadata": {},
   "outputs": [
    {
     "data": {
      "text/plain": [
       "([7.653, 8.758], 12.841)"
      ]
     },
     "execution_count": 9,
     "metadata": {},
     "output_type": "execute_result"
    }
   ],
   "source": [
    "def max_fitness(population):\n",
    "    biggest = 0\n",
    "    \n",
    "    for individual in population:\n",
    "        fit = f_fit(individual[0], individual[1])\n",
    "        \n",
    "        if fit >= biggest: \n",
    "            chosen_x = individual[0]\n",
    "            chosen_y = individual[1]\n",
    "            biggest = fit\n",
    "    \n",
    "    return ([chosen_x, chosen_y], biggest)\n",
    "\n",
    "max_fitness(population)"
   ]
  },
  {
   "cell_type": "code",
   "execution_count": 10,
   "id": "opened-delay",
   "metadata": {},
   "outputs": [
    {
     "data": {
      "text/plain": [
       "8.10718"
      ]
     },
     "execution_count": 10,
     "metadata": {},
     "output_type": "execute_result"
    }
   ],
   "source": [
    "def mean_fitness(population):\n",
    "    sum_value = 0.0\n",
    "    \n",
    "    for individual in population:\n",
    "        fit = f_fit(individual[0], individual[1])\n",
    "        sum_value = sum_value + fit\n",
    "        \n",
    "    return sum_value / NUMBER_OF_INDIVIDUALS\n",
    "    \n",
    "mean_fitness(population)"
   ]
  },
  {
   "cell_type": "code",
   "execution_count": 11,
   "id": "another-charleston",
   "metadata": {},
   "outputs": [
    {
     "data": {
      "text/plain": [
       "([3.988, 7.906], 3.681)"
      ]
     },
     "execution_count": 11,
     "metadata": {},
     "output_type": "execute_result"
    }
   ],
   "source": [
    "def min_fitness(population):\n",
    "    minor = 10.0\n",
    "    \n",
    "    for individual in population:\n",
    "        fit = f_fit(individual[0], individual[1])\n",
    "        \n",
    "        if fit <= minor:\n",
    "            chosen_x = individual[0]\n",
    "            chosen_y = individual[1]\n",
    "            minor = fit\n",
    "    \n",
    "    return ([chosen_x, chosen_y], minor)\n",
    "\n",
    "min_fitness(population)"
   ]
  },
  {
   "cell_type": "markdown",
   "id": "balanced-pound",
   "metadata": {},
   "source": [
    "## Algoritmo completo\n",
    "Agora com as funções necessárias, montamos o algoritmo."
   ]
  },
  {
   "cell_type": "code",
   "execution_count": 229,
   "id": "ongoing-christmas",
   "metadata": {},
   "outputs": [
    {
     "data": {
      "image/png": "[encoded data removed]",
      "text/plain": [
       "<Figure size 432x288 with 1 Axes>"
      ]
     },
     "metadata": {
      "needs_background": "light"
     },
     "output_type": "display_data"
    }
   ],
   "source": [
    "from matplotlib import pyplot as plt\n",
    "\n",
    "max_gens = 10\n",
    "actual_gen = 0 \n",
    "difference = 10000\n",
    "current_pop = population\n",
    "new_gen = population\n",
    "vector_best = []\n",
    "vector_mean = []\n",
    "vector_worst = []\n",
    "vector_gen = []\n",
    "crossover_ratio = 0.7\n",
    "\n",
    "while actual_gen <= max_gens and difference > 0.01:\n",
    "    \n",
    "    # Choose the best individual\n",
    "    best_ind, best_fit = max_fitness(current_pop)\n",
    "    vector_best.append(best_fit)\n",
    "    \n",
    "    mean_fit = mean_fitness(current_pop)\n",
    "    vector_mean.append(mean_fit)\n",
    "    \n",
    "    worst_ind, worst_fit = min_fitness(current_pop)\n",
    "    vector_worst.append(worst_fit)\n",
    "    \n",
    "    vector_gen.append(actual_gen) \n",
    "    counter = 0 \n",
    "    \n",
    "    for index in range(0, NUMBER_OF_PARENTS, 2):\n",
    "        # selection\n",
    "        parent_a = roleta(current_pop)\n",
    "        parent_b = roleta(current_pop)\n",
    "        #print(parent_a, parent_b, \"\\n-----\")\n",
    "        \n",
    "        cross_rand = randint(0,100)/100\n",
    "        if cross_rand <= 0.7:\n",
    "            # crossover\n",
    "            children_a, children_b = crossover(parent_a, parent_b)\n",
    "            #print(children_a, children_b, \"\\n\")\n",
    "\n",
    "            # mutation (0.5%)\n",
    "            #children_a = mutation(children_a)\n",
    "            #children_b = mutation(children_b)\n",
    "\n",
    "            new_gen[index] = children_a\n",
    "            new_gen[index+1] = children_b\n",
    "\n",
    "            #print(f\"C_a: {children_a}, C_a: {children_b}\")\n",
    "        else:\n",
    "            new_gen[index] = parent_a\n",
    "            new_gen[index+1] = parent_b\n",
    "    \n",
    "    #print(new_gen, \"\\n\\n\\n\\n\\n\")\n",
    "    #input('Press enter to continue: ')\n",
    "    current_pop = new_gen\n",
    "    difference = abs(best_fit - f_fit(7.917, 7.917))\n",
    "    #print(f\"melhor individuo: {best_ind}, fitness: {best_fit},\\nfitness otimo: {f_fit(7.917, 7.917)}, geracao atual: {actual_gen}\\n\\n\")\n",
    "    actual_gen = actual_gen + 1\n",
    "\n",
    "    \n",
    "plt.plot(vector_gen, vector_best, label='best')\n",
    "plt.plot(vector_gen, vector_mean, label='mean')\n",
    "plt.plot(vector_gen, vector_worst, label='worst')\n",
    "plt.xlabel(\"Generations\")\n",
    "plt.ylabel(\"Fitness\")\n",
    "plt.show()"
   ]
  },
  {
   "cell_type": "markdown",
   "id": "excellent-voice",
   "metadata": {},
   "source": [
    "# ToDo\n",
    "- Plotar gráfico de convergência\n",
    "  - Fitness do melhor\n",
    "  - Fitness médio da população\n",
    "  - Fitness do pior elemento"
   ]
  }
 ],
 "metadata": {
  "kernelspec": {
   "display_name": "Python 3",
   "language": "python",
   "name": "python3"
  },
  "language_info": {
   "codemirror_mode": {
    "name": "ipython",
    "version": 3
   },
   "file_extension": ".py",
   "mimetype": "text/x-python",
   "name": "python",
   "nbconvert_exporter": "python",
   "pygments_lexer": "ipython3",
   "version": "3.9.4"
  }
 },
 "nbformat": 4,
 "nbformat_minor": 5
}

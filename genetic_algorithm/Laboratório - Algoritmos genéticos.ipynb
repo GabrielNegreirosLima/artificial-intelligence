{
 "cells": [
  {
   "attachments": {
    "image-2.png": {
     "image/png": "[encoded data removed]"
    },
    "image.png": {
     "image/png": "[encoded data removed]"
    }
   },
   "cell_type": "markdown",
   "id": "forty-general",
   "metadata": {},
   "source": [
    "# Algoritmos Genéticos\n",
    "### Gabriel Negreiros Lima\n",
    "\n",
    "1. Implementar um algoritmo genético para resolver o problema de maximização da função Alpine 2\n",
    "\n",
    "![image.png](attachment:image.png)\n",
    "\n",
    "Nesta equação, n representa o número de dimensões e x_i pertencente a [0,10] para i = 1, ..., n. \n",
    "\n",
    "## Representação\n",
    "Neste trabalho teremos n = 2, portanto:\n",
    "\n",
    "![image-2.png](attachment:image-2.png)\n",
    "\n",
    "O Máximo Global da função é igual a `f(x^*)=2.808^n => f(x1,x2)=7.88`."
   ]
  },
  {
   "cell_type": "markdown",
   "id": "structured-happiness",
   "metadata": {},
   "source": [
    "## Função *fitness*\n",
    "A função de aptidão utilizada será `f_fit(x) = f(x) + 7.88`, que em módulo é o máximo e mínimo desta função, e desta forma não teremos resultados negativos na função *fitness*. Neste trabalho avaliaremos com 3 casas decimais."
   ]
  },
  {
   "cell_type": "code",
   "execution_count": 376,
   "id": "billion-rainbow",
   "metadata": {
    "scrolled": true
   },
   "outputs": [
    {
     "data": {
      "text/plain": [
       "15.766"
      ]
     },
     "execution_count": 376,
     "metadata": {},
     "output_type": "execute_result"
    }
   ],
   "source": [
    "import math\n",
    "from random import randint\n",
    "import numpy as np\n",
    "\n",
    "def f_alpine02(x, y):\n",
    "    return math.sqrt(x)*math.sin(x) * math.sqrt(y)*math.sin(y)\n",
    "\n",
    "def f_fit(x, y):\n",
    "    return round(f_alpine02(x, y) + 7.88, 3)\n",
    "\n",
    "MAX_ALPINE = f_fit(7.917, 7.917) # 7.88 * 2\n",
    "MAX_ALPINE"
   ]
  },
  {
   "cell_type": "markdown",
   "id": "younger-catalog",
   "metadata": {},
   "source": [
    "## População inicial"
   ]
  },
  {
   "cell_type": "code",
   "execution_count": 3,
   "id": "finnish-sugar",
   "metadata": {},
   "outputs": [
    {
     "data": {
      "text/plain": [
       "array([[6.996, 0.474],\n",
       "       [3.593, 9.737],\n",
       "       [4.244, 0.198],\n",
       "       [0.69 , 8.807],\n",
       "       [4.516, 5.834],\n",
       "       [8.957, 3.184],\n",
       "       [4.56 , 9.407],\n",
       "       [9.107, 0.812],\n",
       "       [8.197, 5.406],\n",
       "       [6.777, 1.08 ],\n",
       "       [7.604, 9.978],\n",
       "       [7.963, 6.751],\n",
       "       [6.761, 6.529],\n",
       "       [2.735, 1.626],\n",
       "       [6.454, 8.591],\n",
       "       [2.372, 4.294],\n",
       "       [4.261, 4.668],\n",
       "       [7.035, 2.18 ],\n",
       "       [6.095, 6.703],\n",
       "       [8.298, 2.417],\n",
       "       [9.833, 6.14 ],\n",
       "       [1.314, 9.995],\n",
       "       [3.322, 6.74 ],\n",
       "       [7.628, 0.663],\n",
       "       [3.503, 7.306],\n",
       "       [3.162, 2.307],\n",
       "       [3.701, 1.494],\n",
       "       [6.246, 7.573],\n",
       "       [0.013, 5.486],\n",
       "       [5.178, 8.11 ],\n",
       "       [2.387, 2.428],\n",
       "       [3.35 , 4.798],\n",
       "       [0.776, 8.531],\n",
       "       [3.993, 2.203],\n",
       "       [3.549, 6.349],\n",
       "       [5.875, 3.078],\n",
       "       [2.56 , 2.89 ],\n",
       "       [0.556, 2.381],\n",
       "       [6.865, 1.192],\n",
       "       [7.783, 5.958],\n",
       "       [5.169, 8.446],\n",
       "       [0.521, 5.08 ],\n",
       "       [6.183, 3.084],\n",
       "       [9.336, 0.292],\n",
       "       [4.407, 3.182],\n",
       "       [8.917, 8.665],\n",
       "       [1.742, 5.373],\n",
       "       [8.817, 7.234],\n",
       "       [8.897, 9.58 ],\n",
       "       [8.048, 6.523],\n",
       "       [1.145, 9.281],\n",
       "       [5.698, 8.215],\n",
       "       [3.278, 0.224],\n",
       "       [2.608, 5.674],\n",
       "       [3.449, 6.935],\n",
       "       [0.874, 7.661],\n",
       "       [1.479, 4.753],\n",
       "       [8.955, 8.098],\n",
       "       [4.719, 5.33 ],\n",
       "       [4.47 , 0.465],\n",
       "       [1.532, 7.616],\n",
       "       [4.974, 8.666],\n",
       "       [9.721, 8.882],\n",
       "       [4.981, 4.294],\n",
       "       [6.048, 6.717],\n",
       "       [2.383, 2.437],\n",
       "       [5.476, 1.645],\n",
       "       [5.978, 0.644],\n",
       "       [7.038, 6.543],\n",
       "       [6.811, 0.686],\n",
       "       [7.77 , 7.965],\n",
       "       [6.588, 9.839],\n",
       "       [5.666, 3.006],\n",
       "       [1.67 , 2.168],\n",
       "       [5.162, 2.186],\n",
       "       [2.763, 3.614],\n",
       "       [0.335, 0.272],\n",
       "       [1.465, 2.385],\n",
       "       [2.894, 1.615],\n",
       "       [2.961, 9.745],\n",
       "       [0.891, 4.899],\n",
       "       [2.923, 2.969],\n",
       "       [5.479, 3.065],\n",
       "       [4.155, 9.884],\n",
       "       [4.961, 1.352],\n",
       "       [4.718, 2.432],\n",
       "       [7.775, 5.217],\n",
       "       [4.923, 6.648],\n",
       "       [4.679, 1.136],\n",
       "       [4.933, 6.767],\n",
       "       [6.897, 1.173],\n",
       "       [9.942, 5.848],\n",
       "       [5.581, 8.511],\n",
       "       [3.26 , 3.044],\n",
       "       [9.476, 3.439],\n",
       "       [0.948, 9.853],\n",
       "       [4.642, 0.866],\n",
       "       [9.6  , 6.462],\n",
       "       [9.841, 6.079],\n",
       "       [7.712, 3.386]])"
      ]
     },
     "execution_count": 3,
     "metadata": {},
     "output_type": "execute_result"
    }
   ],
   "source": [
    "NUMBER_OF_INDIVIDUALS = 100\n",
    "\n",
    "x_s = [np.random.uniform(0,10) for _ in range(0,NUMBER_OF_INDIVIDUALS)]\n",
    "y_s = [np.random.uniform(0,10) for _ in range(0,NUMBER_OF_INDIVIDUALS)]\n",
    "population = np.zeros((NUMBER_OF_INDIVIDUALS,2))\n",
    "\n",
    "for index, element in enumerate(x_s):\n",
    "    x_s[index] = round(x_s[index], 3)\n",
    "    y_s[index] = round(y_s[index], 3)\n",
    "    population[index][0] = x_s[index]\n",
    "    population[index][1] = y_s[index]\n",
    "\n",
    "population"
   ]
  },
  {
   "cell_type": "markdown",
   "id": "normal-neighbor",
   "metadata": {},
   "source": [
    "## Seleção: roleta\n",
    "Para fazer a seleção da roleta, iremos utilizar a função `f_fit` para gerar a roleta:"
   ]
  },
  {
   "cell_type": "code",
   "execution_count": 4,
   "id": "separate-prior",
   "metadata": {},
   "outputs": [
    {
     "data": {
      "text/plain": [
       "array([9.721, 8.882])"
      ]
     },
     "execution_count": 4,
     "metadata": {},
     "output_type": "execute_result"
    }
   ],
   "source": [
    "X_POS = 0 \n",
    "Y_POS = 1\n",
    "\n",
    "def roleta(population):\n",
    "    sum_fitness = 0\n",
    "    sum_by_individual = []\n",
    "    temp = np.array([])                       # temporary to save the fitness\n",
    "    number_of_rows, _ = population.shape      # population size\n",
    "    fitnesses = np.zeros((number_of_rows,2))  # matrix with position and fitness of each one\n",
    "    position = 0\n",
    "    \n",
    "    # saves all fitnesses and position of the individual\n",
    "    for i in population:\n",
    "        temp = f_fit(i[X_POS], i[Y_POS]) \n",
    "        fitnesses[position][0] = position\n",
    "        fitnesses[position][1] = temp\n",
    "        position += 1\n",
    "    \n",
    "    # sort by fitnesses\n",
    "    fitnesses = fitnesses[fitnesses[:, 1].argsort()]\n",
    "    \n",
    "    for fit in fitnesses:\n",
    "        sum_fitness += fit[1]  \n",
    "        sum_by_individual.append([\n",
    "            fit[0],\n",
    "            sum_fitness\n",
    "        ])   \n",
    "            \n",
    "    sum_fitness = int(sum_fitness * 1000)  # make it a integer to ease\n",
    "    rand_value = randint(0, sum_fitness)   # randomizing\n",
    "    \n",
    "    #print(f\"sum by individual with index: \\n{sum_by_individual}\")\n",
    "    rand_value = float(rand_value / 1000)   # make it back to float\n",
    "    sum_fitness = float(sum_fitness / 1000)\n",
    "    \n",
    "    \n",
    "    # find the first element that has fitness sum greater than random\n",
    "    ##print(f\"sum_fitness_total: {sum_fitness}\")\n",
    "    ##print(f\"rand_value: {rand_value}\")\n",
    "    for ind_with_sum  in sum_by_individual:\n",
    "        if ind_with_sum[1] >= rand_value: \n",
    "            #print(f\"fitness sum and index of the individual: {ind_with_sum}\")\n",
    "            #print(f\"individual: {population[int(ind_with_sum[0])]}\")\n",
    "            return population[int(ind_with_sum[0])]\n",
    "        \n",
    "        \n",
    "roleta(population)"
   ]
  },
  {
   "cell_type": "markdown",
   "id": "adequate-occurrence",
   "metadata": {},
   "source": [
    "Agora que temos a função roleta, podemos selecionar os pais da próxima geração. Para uma população definida na variável NUMBER_OF_INDIVIDUALS, elegemos a metade de casais que serão os pais, e então estes serão passados para o cruzamento."
   ]
  },
  {
   "cell_type": "code",
   "execution_count": 5,
   "id": "rental-share",
   "metadata": {
    "scrolled": true
   },
   "outputs": [
    {
     "data": {
      "text/plain": [
       "array([[3.162, 2.307],\n",
       "       [5.698, 8.215],\n",
       "       [9.336, 0.292],\n",
       "       [4.933, 6.767],\n",
       "       [9.833, 6.14 ],\n",
       "       [2.735, 1.626],\n",
       "       [1.742, 5.373],\n",
       "       [6.761, 6.529],\n",
       "       [7.783, 5.958],\n",
       "       [0.69 , 8.807],\n",
       "       [4.47 , 0.465],\n",
       "       [4.679, 1.136],\n",
       "       [8.817, 7.234],\n",
       "       [0.776, 8.531],\n",
       "       [6.095, 6.703],\n",
       "       [1.67 , 2.168],\n",
       "       [3.35 , 4.798],\n",
       "       [0.556, 2.381],\n",
       "       [3.593, 9.737],\n",
       "       [5.169, 8.446],\n",
       "       [9.336, 0.292],\n",
       "       [4.719, 5.33 ],\n",
       "       [4.718, 2.432],\n",
       "       [4.47 , 0.465],\n",
       "       [0.776, 8.531],\n",
       "       [6.897, 1.173],\n",
       "       [4.407, 3.182],\n",
       "       [7.77 , 7.965],\n",
       "       [3.35 , 4.798],\n",
       "       [1.465, 2.385],\n",
       "       [3.26 , 3.044],\n",
       "       [9.721, 8.882],\n",
       "       [8.817, 7.234],\n",
       "       [1.465, 2.385],\n",
       "       [9.721, 8.882],\n",
       "       [4.923, 6.648],\n",
       "       [1.532, 7.616],\n",
       "       [9.6  , 6.462],\n",
       "       [9.476, 3.439],\n",
       "       [4.718, 2.432],\n",
       "       [2.923, 2.969],\n",
       "       [4.923, 6.648],\n",
       "       [8.298, 2.417],\n",
       "       [9.841, 6.079],\n",
       "       [1.465, 2.385],\n",
       "       [8.298, 2.417],\n",
       "       [3.449, 6.935],\n",
       "       [8.957, 3.184],\n",
       "       [2.608, 5.674],\n",
       "       [7.628, 0.663]])"
      ]
     },
     "execution_count": 5,
     "metadata": {},
     "output_type": "execute_result"
    }
   ],
   "source": [
    "NUMBER_OF_PARENTS = int(NUMBER_OF_INDIVIDUALS/2)\n",
    "\n",
    "def select_parents(population):\n",
    "    \n",
    "    parents = np.zeros((NUMBER_OF_PARENTS,2))\n",
    "    for index in range(0,int(NUMBER_OF_PARENTS)):\n",
    "        parents[index] = roleta(population)\n",
    "    return parents\n",
    "        \n",
    "parents = select_parents(population)\n",
    "parents"
   ]
  },
  {
   "cell_type": "markdown",
   "id": "green-obligation",
   "metadata": {},
   "source": [
    "## Operadores Genéticos\n",
    "### Crossover de ponto único\n",
    "Dados dois indivíduos, constituiremos um novo par de indivíduos"
   ]
  },
  {
   "cell_type": "code",
   "execution_count": 10,
   "id": "amended-arizona",
   "metadata": {},
   "outputs": [
    {
     "name": "stdout",
     "output_type": "stream",
     "text": [
      "[3.162, 8.215] [5.698, 2.307]\n"
     ]
    }
   ],
   "source": [
    "def crossover(parent_a, parent_b):\n",
    "    children_a = [parent_a[0], parent_b[1]]\n",
    "    children_b = [parent_b[0], parent_a[1]]\n",
    "    \n",
    "    return (children_a, children_b)\n",
    "\n",
    "children_a, children_b = crossover(parents[0], parents[1])\n",
    "print(children_a, children_b)"
   ]
  },
  {
   "cell_type": "markdown",
   "id": "analyzed-newfoundland",
   "metadata": {},
   "source": [
    "### Mutação Gaussiana\n",
    "Dado um indivíduo, realizar uma mudança local com um ajuste aleatório em ambas as posições:"
   ]
  },
  {
   "cell_type": "code",
   "execution_count": 362,
   "id": "critical-bronze",
   "metadata": {},
   "outputs": [
    {
     "name": "stdout",
     "output_type": "stream",
     "text": [
      "[9.833 6.14 ] [9.833 6.14 ]\n"
     ]
    }
   ],
   "source": [
    "def mutation(individual): \n",
    "    max_range_value = 2\n",
    "    \n",
    "    signal = randint(0, 3)  # 0 = + + | 1 = + - | 2 = - + | 3 = - - \n",
    "    delta_x = randint(0, max_range_value*1000)/1000 # same logic from roleta\n",
    "    delta_y = randint(0, max_range_value*1000)/1000 \n",
    "    \n",
    "    probability = 50   # 0.5% \n",
    "    decisor = randint(1, 1000)\n",
    "    \n",
    "    if decisor <= probability:\n",
    "        \n",
    "        # signal choise\n",
    "        if signal == 0:\n",
    "            new_x = individual[0]+delta_x\n",
    "            new_y = individual[1]+delta_y\n",
    "        elif signal == 1:\n",
    "            new_x = individual[0]+delta_x\n",
    "            new_y = individual[1]-delta_y\n",
    "        elif signal == 2:\n",
    "            new_x = individual[0]-delta_x\n",
    "            new_y = individual[1]+delta_y\n",
    "        elif signal == 3:\n",
    "            new_x = individual[0]-delta_x\n",
    "            new_y = individual[1]-delta_y\n",
    "        \n",
    "        # boundaries\n",
    "        if new_x > 10.0:\n",
    "            new_x = 10.0\n",
    "        elif new_x < 0:\n",
    "            new_x = 0\n",
    "        \n",
    "        if new_y > 10.0:\n",
    "            new_y = 10.0\n",
    "        elif new_y < 0:\n",
    "            new_y = 0\n",
    "            \n",
    "        return [round(new_x, 3), round(new_y, 3)]\n",
    "    \n",
    "    return individual\n",
    "\n",
    "mutated = mutation(parents[4])\n",
    "print(parents[4], mutated)"
   ]
  },
  {
   "cell_type": "markdown",
   "id": "combined-research",
   "metadata": {},
   "source": [
    "## Mais algumas funções auxiliares\n",
    "### Fitnesses para plots\n",
    "Dada uma população, precisaremos do maior fitness, do menor, e do fitness médio para criar o gráfico de convergência."
   ]
  },
  {
   "cell_type": "code",
   "execution_count": 366,
   "id": "hydraulic-screen",
   "metadata": {},
   "outputs": [
    {
     "data": {
      "text/plain": [
       "15.671"
      ]
     },
     "execution_count": 366,
     "metadata": {},
     "output_type": "execute_result"
    }
   ],
   "source": [
    "def max_fitness(population):\n",
    "    biggest = 0\n",
    "    \n",
    "    for individual in population:\n",
    "        fit = f_fit(individual[0], individual[1])\n",
    "        \n",
    "        if fit >= biggest:\n",
    "            biggest = fit\n",
    "    \n",
    "    return biggest\n",
    "\n",
    "max_fitness(population)"
   ]
  },
  {
   "cell_type": "code",
   "execution_count": 372,
   "id": "catholic-geology",
   "metadata": {},
   "outputs": [
    {
     "data": {
      "text/plain": [
       "7.780650000000003"
      ]
     },
     "execution_count": 372,
     "metadata": {},
     "output_type": "execute_result"
    }
   ],
   "source": [
    "def mean_fitness(population):\n",
    "    sum_value = 0.0\n",
    "    \n",
    "    for individual in population:\n",
    "        fit = f_fit(individual[0], individual[1])\n",
    "        sum_value = sum_value + fit\n",
    "        \n",
    "    return sum_value / NUMBER_OF_INDIVIDUALS\n",
    "    \n",
    "mean_fitness(population)"
   ]
  },
  {
   "cell_type": "code",
   "execution_count": 373,
   "id": "authentic-mountain",
   "metadata": {},
   "outputs": [
    {
     "data": {
      "text/plain": [
       "2.278"
      ]
     },
     "execution_count": 373,
     "metadata": {},
     "output_type": "execute_result"
    }
   ],
   "source": [
    "def min_fitness(population):\n",
    "    minor = 10.0\n",
    "    \n",
    "    for individual in population:\n",
    "        fit = f_fit(individual[0], individual[1])\n",
    "        \n",
    "        if fit <= minor:\n",
    "            minor = fit\n",
    "    \n",
    "    return minor\n",
    "\n",
    "min_fitness(population)"
   ]
  },
  {
   "cell_type": "markdown",
   "id": "handed-shade",
   "metadata": {},
   "source": [
    "## Algoritmo completo\n",
    "Agora com as funções necessárias, montamos o algoritmo."
   ]
  },
  {
   "cell_type": "code",
   "execution_count": null,
   "id": "conventional-german",
   "metadata": {},
   "outputs": [],
   "source": [
    "max_gens = 100\n",
    "actual_gen = 0 \n",
    "difference = 0        # difference between max\n",
    "\n",
    "while actual_gen <= max_gens and (MAX_ALPINE - difference) > 0.01:\n",
    "    "
   ]
  },
  {
   "cell_type": "markdown",
   "id": "romance-nation",
   "metadata": {},
   "source": [
    "# ToDo\n",
    "- Plotar gráfico de convergência\n",
    "  - Fitness do melhor\n",
    "  - Fitness médio da população\n",
    "  - Fitness do pior elemento"
   ]
  }
 ],
 "metadata": {
  "kernelspec": {
   "display_name": "Python 3",
   "language": "python",
   "name": "python3"
  },
  "language_info": {
   "codemirror_mode": {
    "name": "ipython",
    "version": 3
   },
   "file_extension": ".py",
   "mimetype": "text/x-python",
   "name": "python",
   "nbconvert_exporter": "python",
   "pygments_lexer": "ipython3",
   "version": "3.9.4"
  }
 },
 "nbformat": 4,
 "nbformat_minor": 5
}

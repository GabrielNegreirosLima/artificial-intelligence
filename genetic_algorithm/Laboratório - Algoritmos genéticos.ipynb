{
 "cells": [
  {
   "attachments": {
    "image-2.png": {
     "image/png": "[encoded data removed]"
    },
    "image.png": {
     "image/png": "[encoded data removed]"
    }
   },
   "cell_type": "markdown",
   "id": "forty-general",
   "metadata": {},
   "source": [
    "# Algoritmos Genéticos\n",
    "> O algoritmo completo se encontra no final do notebook, várias funções são criados no caminho.\n",
    "\n",
    "### Gabriel Negreiros Lima\n",
    "\n",
    "1. Implementar um algoritmo genético para resolver o problema de maximização da função Alpine 2\n",
    "\n",
    "![image.png](attachment:image.png)\n",
    "\n",
    "Nesta equação, n representa o número de dimensões e x_i pertencente a [0,10] para i = 1, ..., n. \n",
    "\n",
    "## Representação\n",
    "Neste trabalho teremos n = 2, portanto:\n",
    "\n",
    "![image-2.png](attachment:image-2.png)\n",
    "\n",
    "O Máximo Global da função é igual a `f(x^*)=2.808^n => f(x1,x2)=7.88`."
   ]
  },
  {
   "cell_type": "markdown",
   "id": "structured-happiness",
   "metadata": {},
   "source": [
    "## Função *fitness*\n",
    "A função de aptidão utilizada será `f_fit(x) = f(x) + 7.88`, que em módulo é o máximo e mínimo desta função, e desta forma não teremos resultados negativos na função *fitness*. Neste trabalho avaliaremos com 3 casas decimais."
   ]
  },
  {
   "cell_type": "code",
   "execution_count": 2,
   "id": "billion-rainbow",
   "metadata": {
    "scrolled": true
   },
   "outputs": [
    {
     "data": {
      "text/plain": [
       "15.765600701977823"
      ]
     },
     "execution_count": 2,
     "metadata": {},
     "output_type": "execute_result"
    }
   ],
   "source": [
    "import math\n",
    "from random import randint\n",
    "import numpy as np\n",
    "\n",
    "def f_alpine02(x, y):\n",
    "    return math.sqrt(x)*math.sin(x) * math.sqrt(y)*math.sin(y)\n",
    "\n",
    "def f_fit(x, y):\n",
    "    return f_alpine02(x, y) + 7.88\n",
    "\n",
    "MAX_ALPINE = f_fit(7.917, 7.917) # 7.88 * 2\n",
    "MAX_ALPINE"
   ]
  },
  {
   "cell_type": "markdown",
   "id": "younger-catalog",
   "metadata": {},
   "source": [
    "## População inicial"
   ]
  },
  {
   "cell_type": "code",
   "execution_count": 34,
   "id": "finnish-sugar",
   "metadata": {},
   "outputs": [
    {
     "data": {
      "text/plain": [
       "array([[5.802, 0.123],\n",
       "       [3.675, 5.066],\n",
       "       [4.294, 8.036],\n",
       "       [6.468, 6.389],\n",
       "       [8.086, 7.365],\n",
       "       [6.613, 5.717],\n",
       "       [5.83 , 2.814],\n",
       "       [5.88 , 4.708],\n",
       "       [8.661, 3.49 ],\n",
       "       [6.73 , 4.889],\n",
       "       [9.476, 3.933],\n",
       "       [6.981, 3.467],\n",
       "       [1.171, 1.344],\n",
       "       [8.451, 5.892],\n",
       "       [0.477, 3.846],\n",
       "       [6.916, 3.307],\n",
       "       [7.113, 5.083],\n",
       "       [8.629, 3.956],\n",
       "       [4.584, 3.152],\n",
       "       [7.765, 2.978]])"
      ]
     },
     "execution_count": 34,
     "metadata": {},
     "output_type": "execute_result"
    }
   ],
   "source": [
    "NUMBER_OF_INDIVIDUALS = 20\n",
    "NUMBER_OF_PARENTS = int(NUMBER_OF_INDIVIDUALS/2)\n",
    "\n",
    "x_s = [np.random.uniform(0,10) for _ in range(0,NUMBER_OF_INDIVIDUALS)]\n",
    "y_s = [np.random.uniform(0,10) for _ in range(0,NUMBER_OF_INDIVIDUALS)]\n",
    "population = np.zeros((NUMBER_OF_INDIVIDUALS,2))\n",
    "\n",
    "for index, element in enumerate(x_s):\n",
    "    x_s[index] = round(x_s[index], 3)\n",
    "    y_s[index] = round(y_s[index], 3)\n",
    "    fit = f_fit(x_s[index], y_s[index])\n",
    "    \n",
    "    population[index][0] = x_s[index]\n",
    "    population[index][1] = y_s[index]\n",
    "\n",
    "population"
   ]
  },
  {
   "cell_type": "markdown",
   "id": "normal-neighbor",
   "metadata": {},
   "source": [
    "## Seleção: roleta\n",
    "Para fazer a seleção da roleta, iremos utilizar a função `f_fit` para gerar a roleta:"
   ]
  },
  {
   "cell_type": "code",
   "execution_count": 51,
   "id": "separate-prior",
   "metadata": {},
   "outputs": [
    {
     "data": {
      "text/plain": [
       "array([0.477, 3.846])"
      ]
     },
     "execution_count": 51,
     "metadata": {},
     "output_type": "execute_result"
    }
   ],
   "source": [
    "X_POS = 0 \n",
    "Y_POS = 1\n",
    "\n",
    "def roleta(population):\n",
    "    sum_fitness = 0\n",
    "    sum_by_individual = []\n",
    "    temp = np.array([])                       # temporary to save the fitness\n",
    "    number_of_rows, _ = population.shape      # population size\n",
    "    fitnesses = np.zeros((number_of_rows,2))  # matrix with position and fitness of each one\n",
    "    position = 0\n",
    "    \n",
    "    # saves all fitnesses and position of the individual\n",
    "    for i in population:\n",
    "        temp = f_fit(i[X_POS], i[Y_POS]) \n",
    "        fitnesses[position][0] = position\n",
    "        fitnesses[position][1] = temp\n",
    "        position += 1\n",
    "        \n",
    "    for fit in fitnesses:\n",
    "        sum_fitness += fit[1]  \n",
    "        sum_by_individual.append([\n",
    "            fit[0],\n",
    "            sum_fitness\n",
    "        ])\n",
    "        #print(fit[1], sum_fitness)\n",
    "            \n",
    "    sum_fitness = int(sum_fitness * 1000)  # make it a integer to ease\n",
    "    rand_value = randint(0, sum_fitness)   # randomizing\n",
    "    \n",
    "    #print(sum_by_individual)\n",
    "    rand_value = float(rand_value / 1000)   # make it back to float\n",
    "    sum_fitness = float(sum_fitness / 1000)\n",
    "    \n",
    "    # find the first element that has fitness sum greater than random\n",
    "    #print(f\"sum_fitness_total: {sum_fitness}\")\n",
    "    #print(f\"rand_value: {rand_value}\")\n",
    "    for ind_with_sum  in sum_by_individual:\n",
    "        if ind_with_sum[1] >= rand_value: \n",
    "            #print(f\"index of the individual and fitness sum: {ind_with_sum}\")\n",
    "            #print(f\"individual: {population[int(ind_with_sum[0])]}\")\n",
    "            return population[int(ind_with_sum[0])]\n",
    "        \n",
    "        \n",
    "roleta(population)"
   ]
  },
  {
   "cell_type": "markdown",
   "id": "adequate-occurrence",
   "metadata": {},
   "source": [
    "Agora que temos a função roleta, podemos selecionar os pais da próxima geração. Para uma população definida na variável NUMBER_OF_INDIVIDUALS, elegemos a metade de casais que serão os pais, e então estes serão passados para o cruzamento."
   ]
  },
  {
   "cell_type": "markdown",
   "id": "alpha-surname",
   "metadata": {},
   "source": [
    "## Operadores Genéticos\n",
    "### Crossover aritmético\n",
    "Dados dois indivíduos, constituiremos um novo par de indivíduos"
   ]
  },
  {
   "cell_type": "code",
   "execution_count": 50,
   "id": "limiting-swiss",
   "metadata": {},
   "outputs": [
    {
     "name": "stdout",
     "output_type": "stream",
     "text": [
      "[6.916, 3.3070000000000004] [6.916, 3.3070000000000004]\n"
     ]
    }
   ],
   "source": [
    "def crossover(parent_a, parent_b):\n",
    "    \n",
    "    a_x = -1\n",
    "    a_y = -1\n",
    "    b_x = -1\n",
    "    b_y = -1\n",
    "    \n",
    "    while a_x < 0 or a_y < 0 or b_x < 0 or b_y < 0 or a_x > 10.0 or a_y > 10.0 or b_x > 10.0 or b_y > 10.0:\n",
    "        alpha = randint(0,100)/100\n",
    "        Pa_x = parent_a[0]\n",
    "        Pa_y = parent_a[1]\n",
    "        Pb_x = parent_b[0]\n",
    "        Pb_y = parent_b[1]\n",
    "        \n",
    "        a_x = (alpha * Pa_x + (1 - alpha)* Pb_x)\n",
    "        a_y = (alpha * Pa_y + (1 - alpha)* Pb_y)\n",
    "\n",
    "        b_x = (alpha * Pb_x + (1 - alpha)* Pa_x)\n",
    "        b_y = (alpha * Pb_y + (1 - alpha)* Pa_y)\n",
    "    \n",
    "    children_a = [a_x, a_y]\n",
    "    children_b = [b_x, b_y]\n",
    "    \n",
    "    return (children_a, children_b)\n",
    "\n",
    "children_a, children_b = crossover(population[0], population[1])\n",
    "print(children_a, children_b)"
   ]
  },
  {
   "cell_type": "markdown",
   "id": "acute-absence",
   "metadata": {},
   "source": [
    "### Mutação Gaussiana\n",
    "Dado um indivíduo, realizar uma mudança local com um ajuste aleatório em ambas as posições:"
   ]
  },
  {
   "cell_type": "code",
   "execution_count": 32,
   "id": "magnetic-character",
   "metadata": {},
   "outputs": [
    {
     "name": "stdout",
     "output_type": "stream",
     "text": [
      "[1.032 9.665] [1.032 9.665]\n"
     ]
    }
   ],
   "source": [
    "#\n",
    "#\n",
    "#\n",
    "#  TROCAR: a mutação é feita em todos os genes da população\n",
    "#  \n",
    "#\n",
    "#\n",
    "#\n",
    "\n",
    "\n",
    "\n",
    "def mutation(individual): \n",
    "    max_range_value = 2\n",
    "    \n",
    "    signal = randint(0, 3)  # 0 = + + | 1 = + - | 2 = - + | 3 = - - \n",
    "    delta_x = randint(0, max_range_value*1000)/1000 # same logic from roleta\n",
    "    delta_y = randint(0, max_range_value*1000)/1000 \n",
    "    \n",
    "    probability = 1   # 0.5% \n",
    "    decisor = randint(1, 1000)\n",
    "    \n",
    "    if decisor <= probability:\n",
    "        \n",
    "        # signal choise\n",
    "        if signal == 0:\n",
    "            new_x = individual[0]+delta_x\n",
    "            new_y = individual[1]+delta_y\n",
    "        elif signal == 1:\n",
    "            new_x = individual[0]+delta_x\n",
    "            new_y = individual[1]-delta_y\n",
    "        elif signal == 2:\n",
    "            new_x = individual[0]-delta_x\n",
    "            new_y = individual[1]+delta_y\n",
    "        elif signal == 3:\n",
    "            new_x = individual[0]-delta_x\n",
    "            new_y = individual[1]-delta_y\n",
    "        \n",
    "        # boundaries\n",
    "        if new_x > 10.0:\n",
    "            new_x = 10.0\n",
    "        elif new_x < 0:\n",
    "            new_x = 0\n",
    "        \n",
    "        if new_y > 10.0:\n",
    "            new_y = 10.0\n",
    "        elif new_y < 0:\n",
    "            new_y = 0\n",
    "            \n",
    "        return [round(new_x, 3), round(new_y, 3)]\n",
    "    \n",
    "    return individual\n",
    "\n",
    "mutated = mutation(population[4])\n",
    "print(population[4], mutated)"
   ]
  },
  {
   "cell_type": "markdown",
   "id": "editorial-conditions",
   "metadata": {},
   "source": [
    "## Mais algumas funções auxiliares\n",
    "### Fitnesses para plots\n",
    "Dada uma população, precisaremos do maior fitness, do menor, e do fitness médio para criar o gráfico de convergência."
   ]
  },
  {
   "cell_type": "code",
   "execution_count": 52,
   "id": "wrapped-plain",
   "metadata": {},
   "outputs": [
    {
     "data": {
      "text/plain": [
       "([1.171, 1.344], 9.00599759701635)"
      ]
     },
     "execution_count": 52,
     "metadata": {},
     "output_type": "execute_result"
    }
   ],
   "source": [
    "def max_fitness(population):\n",
    "    biggest = 0\n",
    "    \n",
    "    for individual in population:\n",
    "        fit = f_fit(individual[0], individual[1])\n",
    "        \n",
    "        if fit >= biggest: \n",
    "            chosen_x = individual[0]\n",
    "            chosen_y = individual[1]\n",
    "            biggest = fit\n",
    "    \n",
    "    return ([chosen_x, chosen_y], biggest)\n",
    "\n",
    "max_fitness(population)"
   ]
  },
  {
   "cell_type": "code",
   "execution_count": 53,
   "id": "opened-delay",
   "metadata": {},
   "outputs": [
    {
     "data": {
      "text/plain": [
       "6.661184546180989"
      ]
     },
     "execution_count": 53,
     "metadata": {},
     "output_type": "execute_result"
    }
   ],
   "source": [
    "def mean_fitness(population):\n",
    "    sum_value = 0.0\n",
    "    \n",
    "    for individual in population:\n",
    "        fit = f_fit(individual[0], individual[1])\n",
    "        sum_value = sum_value + fit\n",
    "        \n",
    "    return sum_value / NUMBER_OF_INDIVIDUALS\n",
    "    \n",
    "mean_fitness(population)"
   ]
  },
  {
   "cell_type": "code",
   "execution_count": 54,
   "id": "another-charleston",
   "metadata": {},
   "outputs": [
    {
     "data": {
      "text/plain": [
       "([7.69885, 4.62535], 2.0065785570261765)"
      ]
     },
     "execution_count": 54,
     "metadata": {},
     "output_type": "execute_result"
    }
   ],
   "source": [
    "def min_fitness(population):\n",
    "    minor = 10.0\n",
    "    \n",
    "    for individual in population:\n",
    "        fit = f_fit(individual[0], individual[1])\n",
    "        \n",
    "        if fit <= minor:\n",
    "            chosen_x = individual[0]\n",
    "            chosen_y = individual[1]\n",
    "            minor = fit\n",
    "    \n",
    "    return ([chosen_x, chosen_y], minor)\n",
    "\n",
    "min_fitness(population)"
   ]
  },
  {
   "cell_type": "markdown",
   "id": "balanced-pound",
   "metadata": {},
   "source": [
    "## Algoritmo completo\n",
    "Agora com as funções necessárias, montamos o algoritmo."
   ]
  },
  {
   "cell_type": "code",
   "execution_count": 60,
   "id": "ongoing-christmas",
   "metadata": {},
   "outputs": [
    {
     "data": {
      "image/png": "[encoded data removed]",
      "text/plain": [
       "<Figure size 432x288 with 1 Axes>"
      ]
     },
     "metadata": {
      "needs_background": "light"
     },
     "output_type": "display_data"
    }
   ],
   "source": [
    "from matplotlib import pyplot as plt\n",
    "\n",
    "max_gens = 10\n",
    "actual_gen = 0 \n",
    "difference = 10000\n",
    "current_pop = population\n",
    "new_gen = population\n",
    "vector_best = []\n",
    "vector_mean = []\n",
    "vector_worst = []\n",
    "vector_gen = []\n",
    "crossover_ratio = 0.7\n",
    "\n",
    "while actual_gen <= max_gens and difference > 0.01:\n",
    "    \n",
    "    # Choose the best individual\n",
    "    best_ind, best_fit = max_fitness(current_pop)\n",
    "    vector_best.append(best_fit)\n",
    "    \n",
    "    mean_fit = mean_fitness(current_pop)\n",
    "    vector_mean.append(mean_fit)\n",
    "    \n",
    "    worst_ind, worst_fit = min_fitness(current_pop)\n",
    "    vector_worst.append(worst_fit)\n",
    "    \n",
    "    vector_gen.append(actual_gen) \n",
    "    counter = 0 \n",
    "    \n",
    "    for index in range(0, NUMBER_OF_PARENTS, 2):\n",
    "        # selection\n",
    "        parent_a = roleta(current_pop)\n",
    "        parent_b = roleta(current_pop)\n",
    "        #print(parent_a, parent_b, \"\\n-----\")\n",
    "        \n",
    "        cross_rand = randint(0,100)/100\n",
    "        if cross_rand <= 0.7:\n",
    "            # crossover\n",
    "            children_a, children_b = crossover(parent_a, parent_b)\n",
    "            #print(children_a, children_b, \"\\n\")\n",
    "\n",
    "            # mutation (0.1%)\n",
    "            #children_a = mutation(children_a)\n",
    "            #children_b = mutation(children_b)\n",
    "\n",
    "            new_gen[index] = children_a\n",
    "            new_gen[index+1] = children_b\n",
    "\n",
    "            #print(f\"C_a: {children_a}, C_a: {children_b}\")\n",
    "        else:\n",
    "            new_gen[index] = parent_a\n",
    "            new_gen[index+1] = parent_b\n",
    "    \n",
    "    #print(new_gen, \"\\n\\n\\n\\n\\n\")\n",
    "    #input('Press enter to continue: ')\n",
    "    current_pop = new_gen\n",
    "    difference = abs(best_fit - f_fit(7.917, 7.917))\n",
    "    #print(f\"melhor individuo: {best_ind}, fitness: {best_fit},\\nfitness otimo: {f_fit(7.917, 7.917)}, geracao atual: {actual_gen}\\n\\n\")\n",
    "    actual_gen = actual_gen + 1\n",
    "\n",
    "    \n",
    "plt.plot(vector_gen, vector_best, label='best')\n",
    "plt.plot(vector_gen, vector_mean, label='mean')\n",
    "plt.plot(vector_gen, vector_worst, label='worst')\n",
    "#plt.xlabel(\"Generations\")\n",
    "#plt.ylabel(\"Fitness\")\n",
    "plt.show()"
   ]
  },
  {
   "cell_type": "markdown",
   "id": "excellent-voice",
   "metadata": {},
   "source": [
    "# ToDo\n",
    "- Plotar gráfico de convergência\n",
    "  - Fitness do melhor\n",
    "  - Fitness médio da população\n",
    "  - Fitness do pior elemento"
   ]
  }
 ],
 "metadata": {
  "kernelspec": {
   "display_name": "Python 3",
   "language": "python",
   "name": "python3"
  },
  "language_info": {
   "codemirror_mode": {
    "name": "ipython",
    "version": 3
   },
   "file_extension": ".py",
   "mimetype": "text/x-python",
   "name": "python",
   "nbconvert_exporter": "python",
   "pygments_lexer": "ipython3",
   "version": "3.9.4"
  }
 },
 "nbformat": 4,
 "nbformat_minor": 5
}

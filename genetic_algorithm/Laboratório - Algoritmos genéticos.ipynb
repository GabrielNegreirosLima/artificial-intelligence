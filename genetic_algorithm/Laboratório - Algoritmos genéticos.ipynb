{
 "cells": [
  {
   "attachments": {
    "image-2.png": {
     "image/png": "[encoded data removed]"
    },
    "image.png": {
     "image/png": "[encoded data removed]"
    }
   },
   "cell_type": "markdown",
   "id": "forty-general",
   "metadata": {},
   "source": [
    "# Algoritmos Genéticos\n",
    "> O algoritmo completo se encontra no final do notebook, várias funções são criados no caminho.\n",
    "\n",
    "### Gabriel Negreiros Lima\n",
    "\n",
    "1. Implementar um algoritmo genético para resolver o problema de maximização da função Alpine 2\n",
    "\n",
    "![image.png](attachment:image.png)\n",
    "\n",
    "Nesta equação, n representa o número de dimensões e x_i pertencente a [0,10] para i = 1, ..., n. \n",
    "\n",
    "## Representação\n",
    "Neste trabalho teremos n = 2, portanto:\n",
    "\n",
    "![image-2.png](attachment:image-2.png)\n",
    "\n",
    "O Máximo Global da função é igual a `f(x^*)=2.808^n => f(x1,x2)=7.88`."
   ]
  },
  {
   "cell_type": "markdown",
   "id": "structured-happiness",
   "metadata": {},
   "source": [
    "## Função *fitness*\n",
    "A função de aptidão utilizada será `f_fit(x) = f(x) + 7.88`, que em módulo é o máximo e mínimo desta função, e desta forma não teremos resultados negativos na função *fitness*. Neste trabalho avaliaremos com 3 casas decimais."
   ]
  },
  {
   "cell_type": "code",
   "execution_count": 2,
   "id": "billion-rainbow",
   "metadata": {
    "scrolled": true
   },
   "outputs": [
    {
     "data": {
      "text/plain": [
       "15.766"
      ]
     },
     "execution_count": 2,
     "metadata": {},
     "output_type": "execute_result"
    }
   ],
   "source": [
    "import math\n",
    "from random import randint\n",
    "import numpy as np\n",
    "\n",
    "def f_alpine02(x, y):\n",
    "    return math.sqrt(x)*math.sin(x) * math.sqrt(y)*math.sin(y)\n",
    "\n",
    "def f_fit(x, y):\n",
    "    return round(f_alpine02(x, y) + 7.88, 3)\n",
    "\n",
    "MAX_ALPINE = f_fit(7.917, 7.917) # 7.88 * 2\n",
    "MAX_ALPINE"
   ]
  },
  {
   "cell_type": "markdown",
   "id": "younger-catalog",
   "metadata": {},
   "source": [
    "## População inicial"
   ]
  },
  {
   "cell_type": "code",
   "execution_count": 237,
   "id": "finnish-sugar",
   "metadata": {},
   "outputs": [
    {
     "data": {
      "text/plain": [
       "array([[2.892, 3.443],\n",
       "       [3.976, 9.218],\n",
       "       [1.234, 8.313],\n",
       "       [6.859, 4.623],\n",
       "       [8.006, 3.581],\n",
       "       [8.298, 1.33 ],\n",
       "       [9.228, 5.733],\n",
       "       [1.177, 8.618],\n",
       "       [9.661, 3.116],\n",
       "       [9.63 , 5.128],\n",
       "       [7.594, 6.18 ],\n",
       "       [7.679, 9.829],\n",
       "       [9.43 , 4.654],\n",
       "       [6.551, 9.835],\n",
       "       [5.429, 3.925],\n",
       "       [6.679, 8.381],\n",
       "       [7.826, 8.718],\n",
       "       [1.508, 7.345],\n",
       "       [9.259, 1.008],\n",
       "       [3.064, 9.631],\n",
       "       [7.927, 8.357],\n",
       "       [3.795, 0.939],\n",
       "       [1.586, 0.156],\n",
       "       [4.226, 0.378],\n",
       "       [2.535, 5.255],\n",
       "       [4.026, 7.693],\n",
       "       [4.644, 3.524],\n",
       "       [2.185, 2.481],\n",
       "       [1.635, 9.892],\n",
       "       [0.514, 5.215],\n",
       "       [2.437, 2.484],\n",
       "       [8.175, 9.545],\n",
       "       [9.548, 7.835],\n",
       "       [2.568, 6.403],\n",
       "       [5.682, 8.631],\n",
       "       [1.158, 3.925],\n",
       "       [1.187, 0.686],\n",
       "       [5.27 , 7.171],\n",
       "       [3.974, 5.508],\n",
       "       [9.167, 1.882],\n",
       "       [2.693, 4.603],\n",
       "       [3.21 , 4.664],\n",
       "       [7.822, 9.892],\n",
       "       [1.476, 5.331],\n",
       "       [9.797, 3.584],\n",
       "       [3.71 , 0.96 ],\n",
       "       [1.754, 9.643],\n",
       "       [7.839, 0.957],\n",
       "       [2.256, 6.405],\n",
       "       [0.94 , 5.73 ]])"
      ]
     },
     "execution_count": 237,
     "metadata": {},
     "output_type": "execute_result"
    }
   ],
   "source": [
    "NUMBER_OF_INDIVIDUALS = 50\n",
    "NUMBER_OF_PARENTS = int(NUMBER_OF_INDIVIDUALS/2)\n",
    "\n",
    "x_s = [np.random.uniform(0,10) for _ in range(0,NUMBER_OF_INDIVIDUALS)]\n",
    "y_s = [np.random.uniform(0,10) for _ in range(0,NUMBER_OF_INDIVIDUALS)]\n",
    "population = np.zeros((NUMBER_OF_INDIVIDUALS,2))\n",
    "\n",
    "for index, element in enumerate(x_s):\n",
    "    x_s[index] = round(x_s[index], 3)\n",
    "    y_s[index] = round(y_s[index], 3)\n",
    "    population[index][0] = x_s[index]\n",
    "    population[index][1] = y_s[index]\n",
    "\n",
    "population"
   ]
  },
  {
   "cell_type": "markdown",
   "id": "normal-neighbor",
   "metadata": {},
   "source": [
    "## Seleção: roleta\n",
    "Para fazer a seleção da roleta, iremos utilizar a função `f_fit` para gerar a roleta:"
   ]
  },
  {
   "cell_type": "code",
   "execution_count": 191,
   "id": "separate-prior",
   "metadata": {},
   "outputs": [
    {
     "data": {
      "text/plain": [
       "array([2.674, 6.357])"
      ]
     },
     "execution_count": 191,
     "metadata": {},
     "output_type": "execute_result"
    }
   ],
   "source": [
    "X_POS = 0 \n",
    "Y_POS = 1\n",
    "\n",
    "def roleta(population):\n",
    "    sum_fitness = 0\n",
    "    sum_by_individual = []\n",
    "    temp = np.array([])                       # temporary to save the fitness\n",
    "    number_of_rows, _ = population.shape      # population size\n",
    "    fitnesses = np.zeros((number_of_rows,2))  # matrix with position and fitness of each one\n",
    "    position = 0\n",
    "    \n",
    "    # saves all fitnesses and position of the individual\n",
    "    for i in population:\n",
    "        temp = f_fit(i[X_POS], i[Y_POS]) \n",
    "        fitnesses[position][0] = position\n",
    "        fitnesses[position][1] = temp\n",
    "        position += 1\n",
    "    \n",
    "    # sort by fitnesses\n",
    "    fitnesses = fitnesses[fitnesses[:, 1].argsort()]\n",
    "    \n",
    "    for fit in fitnesses:\n",
    "        sum_fitness += fit[1]  \n",
    "        sum_by_individual.append([\n",
    "            fit[0],\n",
    "            sum_fitness\n",
    "        ])   \n",
    "            \n",
    "    sum_fitness = int(sum_fitness * 1000)  # make it a integer to ease\n",
    "    rand_value = randint(0, sum_fitness)   # randomizing\n",
    "    \n",
    "    #print(f\"sum by individual with index: \\n{sum_by_individual}\")\n",
    "    rand_value = float(rand_value / 1000)   # make it back to float\n",
    "    sum_fitness = float(sum_fitness / 1000)\n",
    "    \n",
    "    \n",
    "    # find the first element that has fitness sum greater than random\n",
    "    #print(f\"sum_fitness_total: {sum_fitness}\")\n",
    "    #print(f\"rand_value: {rand_value}\")\n",
    "    for ind_with_sum  in sum_by_individual:\n",
    "        if ind_with_sum[1] >= rand_value: \n",
    "            #print(f\"index of the individual and fitness sum: {ind_with_sum}\")\n",
    "            #print(f\"individual: {population[int(ind_with_sum[0])]}\")\n",
    "            return population[int(ind_with_sum[0])]\n",
    "        \n",
    "        \n",
    "roleta(population)"
   ]
  },
  {
   "cell_type": "markdown",
   "id": "adequate-occurrence",
   "metadata": {},
   "source": [
    "Agora que temos a função roleta, podemos selecionar os pais da próxima geração. Para uma população definida na variável NUMBER_OF_INDIVIDUALS, elegemos a metade de casais que serão os pais, e então estes serão passados para o cruzamento. Como no exemplo abaixo."
   ]
  },
  {
   "cell_type": "code",
   "execution_count": 6,
   "id": "rental-share",
   "metadata": {
    "scrolled": true
   },
   "outputs": [
    {
     "data": {
      "text/plain": [
       "array([[9.279, 4.859],\n",
       "       [0.311, 6.629],\n",
       "       [6.51 , 3.702],\n",
       "       [8.092, 8.582],\n",
       "       [9.666, 4.589],\n",
       "       [1.737, 1.287],\n",
       "       [6.022, 3.065],\n",
       "       [7.013, 6.844],\n",
       "       [0.304, 5.839],\n",
       "       [4.549, 4.999],\n",
       "       [0.388, 4.523],\n",
       "       [9.197, 5.533],\n",
       "       [2.562, 3.806],\n",
       "       [5.109, 5.427],\n",
       "       [2.517, 7.633],\n",
       "       [6.864, 3.764],\n",
       "       [8.471, 2.803],\n",
       "       [6.51 , 3.702],\n",
       "       [2.431, 5.835],\n",
       "       [9.156, 1.74 ],\n",
       "       [8.353, 9.057],\n",
       "       [1.165, 6.914],\n",
       "       [2.562, 3.806],\n",
       "       [3.743, 5.224],\n",
       "       [1.218, 3.087],\n",
       "       [2.279, 0.339],\n",
       "       [2.925, 5.354],\n",
       "       [8.471, 2.803],\n",
       "       [6.508, 8.628],\n",
       "       [3.36 , 5.95 ],\n",
       "       [1.881, 6.089],\n",
       "       [4.954, 2.882],\n",
       "       [8.707, 5.879],\n",
       "       [3.36 , 5.95 ],\n",
       "       [8.864, 1.504],\n",
       "       [7.216, 3.865],\n",
       "       [1.433, 0.633],\n",
       "       [9.212, 2.043],\n",
       "       [7.013, 6.844],\n",
       "       [3.743, 5.224],\n",
       "       [4.077, 4.569],\n",
       "       [0.304, 5.839],\n",
       "       [2.562, 3.806],\n",
       "       [3.733, 3.903],\n",
       "       [5.887, 9.953],\n",
       "       [8.094, 1.013],\n",
       "       [6.022, 3.065],\n",
       "       [5.997, 4.008],\n",
       "       [0.304, 5.839],\n",
       "       [3.743, 5.224]])"
      ]
     },
     "execution_count": 6,
     "metadata": {},
     "output_type": "execute_result"
    }
   ],
   "source": [
    "def select_parents(population):\n",
    "    \n",
    "    parents = np.zeros((NUMBER_OF_PARENTS,2))\n",
    "    for index in range(0,int(NUMBER_OF_PARENTS)):\n",
    "        parents[index] = roleta(population)\n",
    "    return parents\n",
    "        \n",
    "parents = select_parents(population)\n",
    "parents"
   ]
  },
  {
   "cell_type": "markdown",
   "id": "alpha-surname",
   "metadata": {},
   "source": [
    "## Operadores Genéticos\n",
    "### Crossover de ponto único\n",
    "Dados dois indivíduos, constituiremos um novo par de indivíduos"
   ]
  },
  {
   "cell_type": "code",
   "execution_count": 7,
   "id": "limiting-swiss",
   "metadata": {},
   "outputs": [
    {
     "name": "stdout",
     "output_type": "stream",
     "text": [
      "[9.279, 6.629] [0.311, 4.859]\n"
     ]
    }
   ],
   "source": [
    "def crossover(parent_a, parent_b):\n",
    "    children_a = [parent_a[0], parent_b[1]]\n",
    "    children_b = [parent_b[0], parent_a[1]]\n",
    "    \n",
    "    return (children_a, children_b)\n",
    "\n",
    "children_a, children_b = crossover(parents[0], parents[1])\n",
    "print(children_a, children_b)"
   ]
  },
  {
   "cell_type": "markdown",
   "id": "acute-absence",
   "metadata": {},
   "source": [
    "### Mutação Gaussiana\n",
    "Dado um indivíduo, realizar uma mudança local com um ajuste aleatório em ambas as posições:"
   ]
  },
  {
   "cell_type": "code",
   "execution_count": 207,
   "id": "magnetic-character",
   "metadata": {},
   "outputs": [
    {
     "name": "stdout",
     "output_type": "stream",
     "text": [
      "[9.666 4.589] [9.666 4.589]\n"
     ]
    }
   ],
   "source": [
    "def mutation(individual): \n",
    "    max_range_value = 2\n",
    "    \n",
    "    signal = randint(0, 3)  # 0 = + + | 1 = + - | 2 = - + | 3 = - - \n",
    "    delta_x = randint(0, max_range_value*1000)/1000 # same logic from roleta\n",
    "    delta_y = randint(0, max_range_value*1000)/1000 \n",
    "    \n",
    "    probability = 5   # 0.5% \n",
    "    decisor = randint(1, 1000)\n",
    "    \n",
    "    if decisor <= probability:\n",
    "        \n",
    "        # signal choise\n",
    "        if signal == 0:\n",
    "            new_x = individual[0]+delta_x\n",
    "            new_y = individual[1]+delta_y\n",
    "        elif signal == 1:\n",
    "            new_x = individual[0]+delta_x\n",
    "            new_y = individual[1]-delta_y\n",
    "        elif signal == 2:\n",
    "            new_x = individual[0]-delta_x\n",
    "            new_y = individual[1]+delta_y\n",
    "        elif signal == 3:\n",
    "            new_x = individual[0]-delta_x\n",
    "            new_y = individual[1]-delta_y\n",
    "        \n",
    "        # boundaries\n",
    "        if new_x > 10.0:\n",
    "            new_x = 10.0\n",
    "        elif new_x < 0:\n",
    "            new_x = 0\n",
    "        \n",
    "        if new_y > 10.0:\n",
    "            new_y = 10.0\n",
    "        elif new_y < 0:\n",
    "            new_y = 0\n",
    "            \n",
    "        return [round(new_x, 3), round(new_y, 3)]\n",
    "    \n",
    "    return individual\n",
    "\n",
    "mutated = mutation(parents[4])\n",
    "print(parents[4], mutated)"
   ]
  },
  {
   "cell_type": "markdown",
   "id": "editorial-conditions",
   "metadata": {},
   "source": [
    "## Mais algumas funções auxiliares\n",
    "### Fitnesses para plots\n",
    "Dada uma população, precisaremos do maior fitness, do menor, e do fitness médio para criar o gráfico de convergência."
   ]
  },
  {
   "cell_type": "code",
   "execution_count": 33,
   "id": "wrapped-plain",
   "metadata": {},
   "outputs": [
    {
     "data": {
      "text/plain": [
       "([7.95, 8.154], 15.536)"
      ]
     },
     "execution_count": 33,
     "metadata": {},
     "output_type": "execute_result"
    }
   ],
   "source": [
    "def max_fitness(population):\n",
    "    biggest = 0\n",
    "    \n",
    "    for individual in population:\n",
    "        fit = f_fit(individual[0], individual[1])\n",
    "        \n",
    "        if fit >= biggest: \n",
    "            chosen_x = individual[0]\n",
    "            chosen_y = individual[1]\n",
    "            biggest = fit\n",
    "    \n",
    "    return ([chosen_x, chosen_y], biggest)\n",
    "\n",
    "max_fitness(population)"
   ]
  },
  {
   "cell_type": "code",
   "execution_count": 213,
   "id": "opened-delay",
   "metadata": {},
   "outputs": [
    {
     "data": {
      "text/plain": [
       "8.19629"
      ]
     },
     "execution_count": 213,
     "metadata": {},
     "output_type": "execute_result"
    }
   ],
   "source": [
    "def mean_fitness(population):\n",
    "    sum_value = 0.0\n",
    "    \n",
    "    for individual in population:\n",
    "        fit = f_fit(individual[0], individual[1])\n",
    "        sum_value = sum_value + fit\n",
    "        \n",
    "    return sum_value / NUMBER_OF_INDIVIDUALS\n",
    "    \n",
    "mean_fitness(population)"
   ]
  },
  {
   "cell_type": "code",
   "execution_count": 10,
   "id": "another-charleston",
   "metadata": {},
   "outputs": [
    {
     "data": {
      "text/plain": [
       "([4.856, 7.834], 1.777)"
      ]
     },
     "execution_count": 10,
     "metadata": {},
     "output_type": "execute_result"
    }
   ],
   "source": [
    "def min_fitness(population):\n",
    "    minor = 10.0\n",
    "    \n",
    "    for individual in population:\n",
    "        fit = f_fit(individual[0], individual[1])\n",
    "        \n",
    "        if fit <= minor:\n",
    "            chosen_x = individual[0]\n",
    "            chosen_y = individual[1]\n",
    "            minor = fit\n",
    "    \n",
    "    return ([chosen_x, chosen_y], minor)\n",
    "\n",
    "min_fitness(population)"
   ]
  },
  {
   "cell_type": "markdown",
   "id": "balanced-pound",
   "metadata": {},
   "source": [
    "## Algoritmo completo\n",
    "Agora com as funções necessárias, montamos o algoritmo."
   ]
  },
  {
   "cell_type": "code",
   "execution_count": 240,
   "id": "ongoing-christmas",
   "metadata": {},
   "outputs": [
    {
     "data": {
      "image/png": "[encoded data removed]",
      "text/plain": [
       "<Figure size 432x288 with 1 Axes>"
      ]
     },
     "metadata": {
      "needs_background": "light"
     },
     "output_type": "display_data"
    }
   ],
   "source": [
    "from matplotlib import pyplot as plt\n",
    "\n",
    "max_gens = 100\n",
    "actual_gen = 0 \n",
    "difference = 10000\n",
    "current_pop = population\n",
    "new_gen = population\n",
    "vector_best = []\n",
    "vector_mean = []\n",
    "vector_worst = []\n",
    "vector_gen = []\n",
    "\n",
    "while actual_gen <= max_gens and difference > 0.01:\n",
    "    \n",
    "    # Choose the best individual\n",
    "    best_ind, best_fit = max_fitness(current_pop)\n",
    "    vector_best.append(best_fit)\n",
    "    \n",
    "    mean_fit = mean_fitness(current_pop)\n",
    "    vector_mean.append(mean_fit)\n",
    "    \n",
    "    worst_ind, worst_fit = min_fitness(current_pop)\n",
    "    vector_worst.append(worst_fit)\n",
    "    \n",
    "    vector_gen.append(actual_gen)    \n",
    "    \n",
    "    for index in range(0, NUMBER_OF_PARENTS, 2):\n",
    "        # selection\n",
    "        parent_a = roleta(current_pop)\n",
    "        parent_b = roleta(current_pop)\n",
    "        #print(parent_a, parent_b, \"\\n-----\")\n",
    "        \n",
    "        # crossover\n",
    "        children_a, children_b = crossover(parent_a, parent_b)\n",
    "        #print(children_a, children_b, \"\\n\")\n",
    "        \n",
    "        # mutation (0.5%)\n",
    "        children_a = mutation(children_a)\n",
    "        children_b = mutation(children_b)\n",
    "        \n",
    "        new_gen[index] = children_a\n",
    "        new_gen[index+1] = children_b\n",
    "        \n",
    "        #print(f\"C_a: {children_a}, C_a: {children_b}\")  \n",
    "    \n",
    "    #print(new_gen, \"\\n\\n\\n\\n\\n\")\n",
    "    #input('Press enter to continue: ')\n",
    "    current_pop = new_gen\n",
    "    difference = abs(best_fit - f_fit(7.917, 7.917))\n",
    "    #print(f\"melhor individuo: {best_ind}, fitness: {best_fit},\\nfitness otimo: {f_fit(7.917, 7.917)}, geracao atual: {actual_gen}\\n\\n\")\n",
    "    actual_gen = actual_gen + 1\n",
    "\n",
    "    \n",
    "plt.plot(vector_gen, vector_best, label='best')\n",
    "plt.plot(vector_gen, vector_mean, label='mean')\n",
    "plt.plot(vector_gen, vector_worst, label='worst')\n",
    "plt.xlabel(\"Generations\")\n",
    "plt.ylabel(\"Fitness\")\n",
    "plt.show()"
   ]
  },
  {
   "cell_type": "markdown",
   "id": "excellent-voice",
   "metadata": {},
   "source": [
    "# ToDo\n",
    "- Plotar gráfico de convergência\n",
    "  - Fitness do melhor\n",
    "  - Fitness médio da população\n",
    "  - Fitness do pior elemento"
   ]
  }
 ],
 "metadata": {
  "kernelspec": {
   "display_name": "Python 3",
   "language": "python",
   "name": "python3"
  },
  "language_info": {
   "codemirror_mode": {
    "name": "ipython",
    "version": 3
   },
   "file_extension": ".py",
   "mimetype": "text/x-python",
   "name": "python",
   "nbconvert_exporter": "python",
   "pygments_lexer": "ipython3",
   "version": "3.9.4"
  }
 },
 "nbformat": 4,
 "nbformat_minor": 5
}

{
 "cells": [
  {
   "attachments": {
    "image-2.png": {
     "image/png": "[encoded data removed]"
    },
    "image.png": {
     "image/png": "[encoded data removed]"
    }
   },
   "cell_type": "markdown",
   "id": "forty-general",
   "metadata": {},
   "source": [
    "# Algoritmos Genéticos\n",
    "> O algoritmo completo se encontra no final do notebook, várias funções são criados no caminho.\n",
    "\n",
    "### Gabriel Negreiros Lima\n",
    "\n",
    "1. Implementar um algoritmo genético para resolver o problema de maximização da função Alpine 2\n",
    "\n",
    "![image.png](attachment:image.png)\n",
    "\n",
    "Nesta equação, n representa o número de dimensões e x_i pertencente a [0,10] para i = 1, ..., n. \n",
    "\n",
    "## Representação\n",
    "Neste trabalho teremos n = 2, portanto:\n",
    "\n",
    "![image-2.png](attachment:image-2.png)\n",
    "\n",
    "O Máximo Global da função é igual a `f(x^*)=2.808^n => f(x1,x2)=7.88`."
   ]
  },
  {
   "cell_type": "markdown",
   "id": "structured-happiness",
   "metadata": {},
   "source": [
    "## Função *fitness*\n",
    "A função de aptidão utilizada será `f_fit(x) = f(x) + 7.88`, que em módulo é o máximo e mínimo desta função, e desta forma não teremos resultados negativos na função *fitness*. Neste trabalho avaliaremos com 3 casas decimais."
   ]
  },
  {
   "cell_type": "code",
   "execution_count": 1,
   "id": "billion-rainbow",
   "metadata": {
    "scrolled": true
   },
   "outputs": [
    {
     "data": {
      "text/plain": [
       "15.765600701977823"
      ]
     },
     "execution_count": 1,
     "metadata": {},
     "output_type": "execute_result"
    }
   ],
   "source": [
    "import math\n",
    "from random import randint\n",
    "import numpy as np\n",
    "\n",
    "def f_alpine02(x, y):\n",
    "    return math.sqrt(x)*math.sin(x) * math.sqrt(y)*math.sin(y)\n",
    "\n",
    "def f_fit(x, y):\n",
    "    return f_alpine02(x, y) + 7.88\n",
    "\n",
    "MAX_ALPINE = f_fit(7.917, 7.917) # 7.88 * 2\n",
    "MAX_ALPINE"
   ]
  },
  {
   "cell_type": "markdown",
   "id": "younger-catalog",
   "metadata": {},
   "source": [
    "## População inicial"
   ]
  },
  {
   "cell_type": "code",
   "execution_count": 118,
   "id": "finnish-sugar",
   "metadata": {},
   "outputs": [
    {
     "data": {
      "text/plain": [
       "array([[ 7.592,  5.568],\n",
       "       [ 8.588,  7.626],\n",
       "       [ 5.402,  0.709],\n",
       "       [ 2.889,  1.023],\n",
       "       [ 5.149,  1.687],\n",
       "       [ 4.859,  9.152],\n",
       "       [ 9.667,  7.258],\n",
       "       [ 1.216,  6.451],\n",
       "       [ 8.094,  7.611],\n",
       "       [ 5.491,  4.313],\n",
       "       [ 3.   ,  1.888],\n",
       "       [ 3.648,  7.823],\n",
       "       [ 7.495,  6.658],\n",
       "       [ 4.709,  8.34 ],\n",
       "       [ 0.06 ,  0.172],\n",
       "       [ 9.855,  5.706],\n",
       "       [ 4.363,  8.724],\n",
       "       [ 4.527,  8.558],\n",
       "       [ 8.34 ,  3.704],\n",
       "       [ 9.528,  7.252],\n",
       "       [ 3.899,  9.387],\n",
       "       [ 1.049,  0.173],\n",
       "       [ 6.245,  0.533],\n",
       "       [ 9.03 ,  5.556],\n",
       "       [ 7.523,  4.195],\n",
       "       [ 8.564,  5.272],\n",
       "       [ 3.68 ,  1.249],\n",
       "       [ 7.769,  5.1  ],\n",
       "       [ 0.491,  0.233],\n",
       "       [ 3.706,  5.537],\n",
       "       [ 4.056,  2.669],\n",
       "       [ 2.063,  7.591],\n",
       "       [ 9.883,  2.293],\n",
       "       [ 8.94 ,  5.494],\n",
       "       [ 9.424,  2.818],\n",
       "       [ 6.895,  6.658],\n",
       "       [ 6.852,  1.539],\n",
       "       [ 9.267,  0.898],\n",
       "       [ 6.535,  4.095],\n",
       "       [ 2.03 ,  2.389],\n",
       "       [ 1.005,  8.674],\n",
       "       [ 7.907,  1.986],\n",
       "       [ 3.046,  0.425],\n",
       "       [ 5.966,  8.007],\n",
       "       [ 7.942,  5.769],\n",
       "       [ 9.023,  5.629],\n",
       "       [ 4.124,  6.9  ],\n",
       "       [ 3.421,  5.274],\n",
       "       [ 5.193,  1.363],\n",
       "       [ 0.787,  6.254],\n",
       "       [ 5.98 ,  5.133],\n",
       "       [ 8.786,  4.752],\n",
       "       [ 1.059,  5.621],\n",
       "       [ 5.722,  3.207],\n",
       "       [ 5.838,  9.931],\n",
       "       [ 9.124,  8.139],\n",
       "       [ 4.453,  8.774],\n",
       "       [ 4.216,  7.367],\n",
       "       [ 6.892,  4.333],\n",
       "       [ 1.663,  0.512],\n",
       "       [ 1.072,  1.079],\n",
       "       [ 0.988,  7.774],\n",
       "       [ 8.062,  5.694],\n",
       "       [ 2.308,  2.411],\n",
       "       [ 0.403,  2.293],\n",
       "       [ 4.02 ,  2.547],\n",
       "       [ 1.429,  5.815],\n",
       "       [ 3.098,  1.612],\n",
       "       [ 0.515,  1.434],\n",
       "       [ 1.706,  5.673],\n",
       "       [ 5.23 ,  6.661],\n",
       "       [ 8.979,  3.277],\n",
       "       [ 1.07 ,  0.87 ],\n",
       "       [ 5.425,  5.382],\n",
       "       [ 4.114,  2.292],\n",
       "       [ 5.65 ,  8.978],\n",
       "       [ 8.653,  1.729],\n",
       "       [ 6.178,  3.618],\n",
       "       [ 3.485,  5.254],\n",
       "       [ 7.29 ,  8.042],\n",
       "       [ 7.389,  1.316],\n",
       "       [ 0.606,  2.631],\n",
       "       [ 8.019,  6.527],\n",
       "       [10.   ,  6.452],\n",
       "       [ 8.015,  7.542],\n",
       "       [ 6.956,  1.168],\n",
       "       [ 7.318,  6.179],\n",
       "       [ 8.006,  3.58 ],\n",
       "       [ 9.063,  2.386],\n",
       "       [ 0.913,  1.6  ],\n",
       "       [ 1.349,  3.322],\n",
       "       [ 0.033,  2.231],\n",
       "       [ 1.031,  9.151],\n",
       "       [ 6.376,  1.455],\n",
       "       [ 0.505,  0.677],\n",
       "       [ 1.144,  9.07 ],\n",
       "       [ 3.371,  1.933],\n",
       "       [ 5.912,  5.84 ],\n",
       "       [ 5.89 ,  9.359],\n",
       "       [ 2.108,  6.653]])"
      ]
     },
     "execution_count": 118,
     "metadata": {},
     "output_type": "execute_result"
    }
   ],
   "source": [
    "NUMBER_OF_INDIVIDUALS = 100\n",
    "NUMBER_OF_PARENTS = int(NUMBER_OF_INDIVIDUALS/2)\n",
    "\n",
    "x_s = [np.random.uniform(0,10) for _ in range(0,NUMBER_OF_INDIVIDUALS)]\n",
    "y_s = [np.random.uniform(0,10) for _ in range(0,NUMBER_OF_INDIVIDUALS)]\n",
    "population = np.zeros((NUMBER_OF_INDIVIDUALS,2))\n",
    "\n",
    "for index, element in enumerate(x_s):\n",
    "    x_s[index] = round(x_s[index], 3)\n",
    "    y_s[index] = round(y_s[index], 3)\n",
    "    fit = f_fit(x_s[index], y_s[index])\n",
    "    \n",
    "    population[index][0] = x_s[index]\n",
    "    population[index][1] = y_s[index]\n",
    "\n",
    "population"
   ]
  },
  {
   "cell_type": "markdown",
   "id": "normal-neighbor",
   "metadata": {},
   "source": [
    "## Seleção: roleta\n",
    "Para fazer a seleção da roleta, iremos utilizar a função `f_fit` para gerar a roleta:"
   ]
  },
  {
   "cell_type": "code",
   "execution_count": 83,
   "id": "separate-prior",
   "metadata": {},
   "outputs": [
    {
     "data": {
      "text/plain": [
       "array([7.742, 4.266])"
      ]
     },
     "execution_count": 83,
     "metadata": {},
     "output_type": "execute_result"
    }
   ],
   "source": [
    "X_POS = 0 \n",
    "Y_POS = 1\n",
    "\n",
    "def roleta(population):\n",
    "    sum_fitness = 0\n",
    "    sum_by_individual = []\n",
    "    temp = np.array([])                       # temporary to save the fitness\n",
    "    number_of_rows, _ = population.shape      # population size\n",
    "    fitnesses = np.zeros((number_of_rows,2))  # matrix with position and fitness of each one\n",
    "    position = 0\n",
    "    \n",
    "    # saves all fitnesses and position of the individual\n",
    "    for i in population:\n",
    "        temp = f_fit(i[X_POS], i[Y_POS]) \n",
    "        fitnesses[position][0] = position\n",
    "        fitnesses[position][1] = temp\n",
    "        position += 1\n",
    "        \n",
    "    for fit in fitnesses:\n",
    "        sum_fitness += fit[1]  \n",
    "        sum_by_individual.append([\n",
    "            fit[0],\n",
    "            sum_fitness\n",
    "        ])\n",
    "        #print(fit[1], sum_fitness)\n",
    "            \n",
    "    sum_fitness = int(sum_fitness * 1000)  # make it a integer to ease\n",
    "    rand_value = randint(0, sum_fitness)   # randomizing\n",
    "    \n",
    "    #print(sum_by_individual)\n",
    "    rand_value = float(rand_value / 1000)   # make it back to float\n",
    "    sum_fitness = float(sum_fitness / 1000)\n",
    "    \n",
    "    # find the first element that has fitness sum greater than random\n",
    "    #print(f\"sum_fitness_total: {sum_fitness}\")\n",
    "    #print(f\"rand_value: {rand_value}\")\n",
    "    for ind_with_sum  in sum_by_individual:\n",
    "        if ind_with_sum[1] >= rand_value: \n",
    "            #print(f\"index of the individual and fitness sum: {ind_with_sum}\")\n",
    "            #print(f\"individual: {population[int(ind_with_sum[0])]}\")\n",
    "            return population[int(ind_with_sum[0])]\n",
    "        \n",
    "        \n",
    "roleta(population)"
   ]
  },
  {
   "cell_type": "markdown",
   "id": "adequate-occurrence",
   "metadata": {},
   "source": [
    "Agora que temos a função roleta, podemos selecionar os pais da próxima geração. Para uma população definida na variável NUMBER_OF_INDIVIDUALS, elegemos a metade de casais que serão os pais, e então estes serão passados para o cruzamento."
   ]
  },
  {
   "cell_type": "markdown",
   "id": "alpha-surname",
   "metadata": {},
   "source": [
    "## Operadores Genéticos\n",
    "### Crossover aritmético\n",
    "Dados dois indivíduos, constituiremos um novo par de indivíduos"
   ]
  },
  {
   "cell_type": "code",
   "execution_count": 113,
   "id": "limiting-swiss",
   "metadata": {},
   "outputs": [
    {
     "name": "stdout",
     "output_type": "stream",
     "text": [
      "[7.30375, 3.8507299999999995] [3.10525, 5.012269999999999]\n"
     ]
    }
   ],
   "source": [
    "def crossover(parent_a, parent_b):\n",
    "    \n",
    "    a_x = -1\n",
    "    a_y = -1\n",
    "    b_x = -1\n",
    "    b_y = -1\n",
    "    \n",
    "    while a_x < 0 or a_y < 0 or b_x < 0 or b_y < 0 or a_x > 10.0 or a_y > 10.0 or b_x > 10.0 or b_y > 10.0:\n",
    "        alpha = randint(0,100)/100\n",
    "        Pa_x = parent_a[0]\n",
    "        Pa_y = parent_a[1]\n",
    "        Pb_x = parent_b[0]\n",
    "        Pb_y = parent_b[1]\n",
    "        \n",
    "        a_x = (alpha * Pa_x + (1 - alpha)* Pb_x)\n",
    "        a_y = (alpha * Pa_y + (1 - alpha)* Pb_y)\n",
    "\n",
    "        b_x = (alpha * Pb_x + (1 - alpha)* Pa_x)\n",
    "        b_y = (alpha * Pb_y + (1 - alpha)* Pa_y)\n",
    "    \n",
    "    children_a = [a_x, a_y]\n",
    "    children_b = [b_x, b_y]\n",
    "    \n",
    "    return (children_a, children_b)\n",
    "\n",
    "children_a, children_b = crossover(parents[0], parents[1])\n",
    "print(children_a, children_b)"
   ]
  },
  {
   "cell_type": "markdown",
   "id": "acute-absence",
   "metadata": {},
   "source": [
    "### Mutação Gaussiana\n",
    "Dado um indivíduo, realizar uma mudança local com um ajuste aleatório em ambas as posições:"
   ]
  },
  {
   "cell_type": "code",
   "execution_count": 8,
   "id": "magnetic-character",
   "metadata": {},
   "outputs": [
    {
     "name": "stdout",
     "output_type": "stream",
     "text": [
      "[0.998 8.014] [0.998 8.014]\n"
     ]
    }
   ],
   "source": [
    "def mutation(individual): \n",
    "    max_range_value = 2\n",
    "    \n",
    "    signal = randint(0, 3)  # 0 = + + | 1 = + - | 2 = - + | 3 = - - \n",
    "    delta_x = randint(0, max_range_value*1000)/1000 # same logic from roleta\n",
    "    delta_y = randint(0, max_range_value*1000)/1000 \n",
    "    \n",
    "    probability = 5   # 0.5% \n",
    "    decisor = randint(1, 1000)\n",
    "    \n",
    "    if decisor <= probability:\n",
    "        \n",
    "        # signal choise\n",
    "        if signal == 0:\n",
    "            new_x = individual[0]+delta_x\n",
    "            new_y = individual[1]+delta_y\n",
    "        elif signal == 1:\n",
    "            new_x = individual[0]+delta_x\n",
    "            new_y = individual[1]-delta_y\n",
    "        elif signal == 2:\n",
    "            new_x = individual[0]-delta_x\n",
    "            new_y = individual[1]+delta_y\n",
    "        elif signal == 3:\n",
    "            new_x = individual[0]-delta_x\n",
    "            new_y = individual[1]-delta_y\n",
    "        \n",
    "        # boundaries\n",
    "        if new_x > 10.0:\n",
    "            new_x = 10.0\n",
    "        elif new_x < 0:\n",
    "            new_x = 0\n",
    "        \n",
    "        if new_y > 10.0:\n",
    "            new_y = 10.0\n",
    "        elif new_y < 0:\n",
    "            new_y = 0\n",
    "            \n",
    "        return [round(new_x, 3), round(new_y, 3)]\n",
    "    \n",
    "    return individual\n",
    "\n",
    "mutated = mutation(parents[4])\n",
    "print(parents[4], mutated)"
   ]
  },
  {
   "cell_type": "markdown",
   "id": "editorial-conditions",
   "metadata": {},
   "source": [
    "## Mais algumas funções auxiliares\n",
    "### Fitnesses para plots\n",
    "Dada uma população, precisaremos do maior fitness, do menor, e do fitness médio para criar o gráfico de convergência."
   ]
  },
  {
   "cell_type": "code",
   "execution_count": 9,
   "id": "wrapped-plain",
   "metadata": {},
   "outputs": [
    {
     "data": {
      "text/plain": [
       "([8.313, 8.135], 14.96309557133554)"
      ]
     },
     "execution_count": 9,
     "metadata": {},
     "output_type": "execute_result"
    }
   ],
   "source": [
    "def max_fitness(population):\n",
    "    biggest = 0\n",
    "    \n",
    "    for individual in population:\n",
    "        fit = f_fit(individual[0], individual[1])\n",
    "        \n",
    "        if fit >= biggest: \n",
    "            chosen_x = individual[0]\n",
    "            chosen_y = individual[1]\n",
    "            biggest = fit\n",
    "    \n",
    "    return ([chosen_x, chosen_y], biggest)\n",
    "\n",
    "max_fitness(population)"
   ]
  },
  {
   "cell_type": "code",
   "execution_count": 10,
   "id": "opened-delay",
   "metadata": {},
   "outputs": [
    {
     "data": {
      "text/plain": [
       "8.139834423538638"
      ]
     },
     "execution_count": 10,
     "metadata": {},
     "output_type": "execute_result"
    }
   ],
   "source": [
    "def mean_fitness(population):\n",
    "    sum_value = 0.0\n",
    "    \n",
    "    for individual in population:\n",
    "        fit = f_fit(individual[0], individual[1])\n",
    "        sum_value = sum_value + fit\n",
    "        \n",
    "    return sum_value / NUMBER_OF_INDIVIDUALS\n",
    "    \n",
    "mean_fitness(population)"
   ]
  },
  {
   "cell_type": "code",
   "execution_count": 11,
   "id": "another-charleston",
   "metadata": {},
   "outputs": [
    {
     "data": {
      "text/plain": [
       "([4.884, 7.692], 1.9198367465374089)"
      ]
     },
     "execution_count": 11,
     "metadata": {},
     "output_type": "execute_result"
    }
   ],
   "source": [
    "def min_fitness(population):\n",
    "    minor = 10.0\n",
    "    \n",
    "    for individual in population:\n",
    "        fit = f_fit(individual[0], individual[1])\n",
    "        \n",
    "        if fit <= minor:\n",
    "            chosen_x = individual[0]\n",
    "            chosen_y = individual[1]\n",
    "            minor = fit\n",
    "    \n",
    "    return ([chosen_x, chosen_y], minor)\n",
    "\n",
    "min_fitness(population)"
   ]
  },
  {
   "cell_type": "markdown",
   "id": "balanced-pound",
   "metadata": {},
   "source": [
    "## Algoritmo completo\n",
    "Agora com as funções necessárias, montamos o algoritmo."
   ]
  },
  {
   "cell_type": "code",
   "execution_count": 117,
   "id": "ongoing-christmas",
   "metadata": {},
   "outputs": [
    {
     "data": {
      "image/png": "[encoded data removed]",
      "text/plain": [
       "<Figure size 432x288 with 1 Axes>"
      ]
     },
     "metadata": {
      "needs_background": "light"
     },
     "output_type": "display_data"
    }
   ],
   "source": [
    "from matplotlib import pyplot as plt\n",
    "\n",
    "max_gens = 100\n",
    "actual_gen = 0 \n",
    "difference = 10000\n",
    "current_pop = population\n",
    "new_gen = population\n",
    "vector_best = []\n",
    "vector_mean = []\n",
    "vector_worst = []\n",
    "vector_gen = []\n",
    "crossover_ratio = 0.7\n",
    "\n",
    "while actual_gen <= max_gens and difference > 0.01:\n",
    "    \n",
    "    # Choose the best individual\n",
    "    best_ind, best_fit = max_fitness(current_pop)\n",
    "    vector_best.append(best_fit)\n",
    "    \n",
    "    mean_fit = mean_fitness(current_pop)\n",
    "    vector_mean.append(mean_fit)\n",
    "    \n",
    "    worst_ind, worst_fit = min_fitness(current_pop)\n",
    "    vector_worst.append(worst_fit)\n",
    "    \n",
    "    vector_gen.append(actual_gen) \n",
    "    counter = 0 \n",
    "    \n",
    "    for index in range(0, NUMBER_OF_PARENTS, 2):\n",
    "        # selection\n",
    "        parent_a = roleta(current_pop)\n",
    "        parent_b = roleta(current_pop)\n",
    "        #print(parent_a, parent_b, \"\\n-----\")\n",
    "        \n",
    "        cross_rand = randint(0,100)/100\n",
    "        if cross_rand <= 0.7:\n",
    "            # crossover\n",
    "            children_a, children_b = crossover(parent_a, parent_b)\n",
    "            #print(children_a, children_b, \"\\n\")\n",
    "\n",
    "            # mutation (0.5%)\n",
    "            #children_a = mutation(children_a)\n",
    "            #children_b = mutation(children_b)\n",
    "\n",
    "            new_gen[index] = children_a\n",
    "            new_gen[index+1] = children_b\n",
    "\n",
    "            #print(f\"C_a: {children_a}, C_a: {children_b}\")\n",
    "        else:\n",
    "            new_gen[index] = parent_a\n",
    "            new_gen[index+1] = parent_b\n",
    "    \n",
    "    #print(new_gen, \"\\n\\n\\n\\n\\n\")\n",
    "    #input('Press enter to continue: ')\n",
    "    current_pop = new_gen\n",
    "    difference = abs(best_fit - f_fit(7.917, 7.917))\n",
    "    #print(f\"melhor individuo: {best_ind}, fitness: {best_fit},\\nfitness otimo: {f_fit(7.917, 7.917)}, geracao atual: {actual_gen}\\n\\n\")\n",
    "    actual_gen = actual_gen + 1\n",
    "\n",
    "    \n",
    "plt.plot(vector_gen, vector_best, label='best')\n",
    "plt.plot(vector_gen, vector_mean, label='mean')\n",
    "plt.plot(vector_gen, vector_worst, label='worst')\n",
    "plt.xlabel(\"Generations\")\n",
    "plt.ylabel(\"Fitness\")\n",
    "plt.show()"
   ]
  },
  {
   "cell_type": "markdown",
   "id": "excellent-voice",
   "metadata": {},
   "source": [
    "# ToDo\n",
    "- Plotar gráfico de convergência\n",
    "  - Fitness do melhor\n",
    "  - Fitness médio da população\n",
    "  - Fitness do pior elemento"
   ]
  }
 ],
 "metadata": {
  "kernelspec": {
   "display_name": "Python 3",
   "language": "python",
   "name": "python3"
  },
  "language_info": {
   "codemirror_mode": {
    "name": "ipython",
    "version": 3
   },
   "file_extension": ".py",
   "mimetype": "text/x-python",
   "name": "python",
   "nbconvert_exporter": "python",
   "pygments_lexer": "ipython3",
   "version": "3.9.4"
  }
 },
 "nbformat": 4,
 "nbformat_minor": 5
}

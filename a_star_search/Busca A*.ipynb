{
 "cells": [
  {
   "cell_type": "markdown",
   "id": "adopted-interstate",
   "metadata": {},
   "source": [
    "## Busca A* - Arad a Bucareste\n",
    "\n",
    "Este notebook tem como objetivo implementar a Busca A* para encontrar o melhor caminho de Arad à Bucareste."
   ]
  },
  {
   "cell_type": "code",
   "execution_count": 39,
   "id": "distant-inspector",
   "metadata": {},
   "outputs": [],
   "source": [
    "# Declaração das variáveis\n",
    "graph = { \"A\": [0,0,0,0,0,0,0,0,0,0,0,0,0,0,0,140,118,0,0,75],\n",
    "                 \"B\": [0,0,0,0,0,211,90,0,0,0,0,0,0,101,0,0,0,85,0,0],\n",
    "                 \"C\": [0,0,0,120,0,0,0,0,0,0,0,0,0,138,146,0,0,0,0,0],\n",
    "                 \"D\": [0,0,120,0,0,0,0,0,0,0,75,0,0,0,0,0,0,0,0,0],\n",
    "                 \"E\": [0,0,0,0,0,0,0,86,0,0,0,0,0,0,0,0,0,0,0,0],\n",
    "                 \"F\": [0,211,0,0,0,0,0,0,0,0,0,0,0,0,0,99,0,0,0,0],\n",
    "                 \"G\": [0,90,0,0,0,0,0,0,0,0,0,0,0,0,0,0,0,0,0,0],\n",
    "                 \"H\": [0,0,0,0,86,0,0,0,0,0,0,0,0,0,0,0,0,98,0,0],\n",
    "                 \"I\": [0,0,0,0,0,0,0,0,0,0,0,87,0,0,0,0,0,0,92,0],\n",
    "                 \"L\": [0,0,0,0,0,0,0,0,0,0,70,0,0,0,0,0,111,0,0,0],\n",
    "                 \"M\": [0,0,0,75,0,0,0,0,0,70,0,0,0,0,0,0,0,0,0,0],\n",
    "                 \"N\": [0,0,0,0,0,0,0,0,87,0,0,0,0,0,0,0,0,0,0,0],\n",
    "                 \"O\": [0,0,0,0,0,0,0,0,0,0,0,0,0,0,0,151,0,0,0,71],\n",
    "                 \"P\": [0,101,138,0,0,0,0,0,0,0,0,0,0,0,97,0,0,0,0,0],\n",
    "                 \"R\": [0,0,146,0,0,0,0,0,0,0,0,0,0,97,0,80,0,0,0,0],\n",
    "                 \"S\": [140,0,0,0,0,99,0,0,0,0,0,0,151,0,80,0,0,0,0,0],\n",
    "                 \"T\": [118,0,0,0,0,0,0,0,0,111,0,0,0,0,0,0,0,0,0,0],\n",
    "                 \"U\": [0,85,0,0,0,0,0,0,0,0,0,0,0,98,0,0,0,0,142,0],\n",
    "                 \"V\": [0,0,0,0,0,0,0,0,92,0,0,0,0,0,0,0,0,142,0,0],\n",
    "                 \"Z\": [75,0,0,0,0,0,0,0,0,0,0,0,71,0,0,0,0,0,0,0]\n",
    "}"
   ]
  },
  {
   "cell_type": "markdown",
   "id": "nonprofit-operations",
   "metadata": {},
   "source": [
    "Podemos criar um dicionario que guarde os valores da heurística, juntamente com uma função que calculará f(n) = g(n)+h(n), juntamente com outras funções auxiliares."
   ]
  },
  {
   "cell_type": "code",
   "execution_count": 40,
   "id": "emerging-american",
   "metadata": {},
   "outputs": [],
   "source": [
    "h = {\n",
    "    \"A\": 366, \"B\": 0, \"C\": 160, \"D\": 242, \"E\": 161, \"F\": 176, \"G\": 77,\n",
    "    \"H\": 151, \"I\":226, \"L\": 244, \"M\": 241, \"N\": 234, \"O\": 380, \n",
    "    \"P\": 100,  \"R\": 193, \"S\": 253, \"T\": 329, \"U\": 80, \"V\": 199, \"Z\": 374\n",
    "}\n",
    "\n",
    "def ascii_index(ascii_origin: str):\n",
    "    # Manipula valores ASCII\n",
    "    ascii_val = ord(ascii_origin)\n",
    "    if ascii_val > 73:\n",
    "        ascii_val -= 2\n",
    "    if ascii_val > 80:\n",
    "        ascii_val -= 1\n",
    "    if ascii_val > 86:\n",
    "        ascii_val -= 3\n",
    "    \n",
    "    index = ascii_val - 65\n",
    "    \n",
    "    return index\n",
    "\n",
    "def ascii_index_reverse(ascii_val: int):\n",
    "    \n",
    "    origin = ascii_val\n",
    "    \n",
    "    # Manipula valores ASCII\n",
    "    if origin > 8:\n",
    "        ascii_val += 2\n",
    "    if origin > 13:\n",
    "        ascii_val += 1\n",
    "    if origin > 18:\n",
    "        ascii_val += 3\n",
    "    \n",
    "    char = ascii_val + 65\n",
    "    \n",
    "    return chr(char)\n",
    "\n",
    "# Calcula f(n)\n",
    "# Alguns ifs são necessarios para corrigir a falta de algumas letras\n",
    "# como J e K\n",
    "def f(origin: str, dest: str):\n",
    "    \n",
    "    index = ascii_index(dest)\n",
    "    #print(f'index: {index} | origin: {origin} | dest: {dest} | graph: {graph[origin][index]} | h {h[dest]}')\n",
    "    \n",
    "    return graph[origin][index] + h[dest]\n",
    "    "
   ]
  },
  {
   "cell_type": "markdown",
   "id": "opposed-bookmark",
   "metadata": {},
   "source": [
    "Com isso todas as informações necessárias estão presentes e podemos iniciar a busca. Utilizarei o valor ASCII para um código mais legível evitando apenas números"
   ]
  },
  {
   "cell_type": "code",
   "execution_count": 49,
   "id": "editorial-strength",
   "metadata": {},
   "outputs": [
    {
     "name": "stdout",
     "output_type": "stream",
     "text": [
      "['A', 366]\n"
     ]
    },
    {
     "ename": "ValueError",
     "evalue": "list.remove(x): x not in list",
     "output_type": "error",
     "traceback": [
      "\u001b[0;31m---------------------------------------------------------------------------\u001b[0m",
      "\u001b[0;31mValueError\u001b[0m                                Traceback (most recent call last)",
      "\u001b[0;32m<ipython-input-49-b084a7cb959c>\u001b[0m in \u001b[0;36m<module>\u001b[0;34m\u001b[0m\n\u001b[1;32m     31\u001b[0m     \u001b[0mchosen_nodes\u001b[0m\u001b[0;34m.\u001b[0m\u001b[0mappend\u001b[0m\u001b[0;34m(\u001b[0m\u001b[0m_list\u001b[0m\u001b[0;34m[\u001b[0m\u001b[0;36m0\u001b[0m\u001b[0;34m]\u001b[0m\u001b[0;34m)\u001b[0m\u001b[0;34m\u001b[0m\u001b[0;34m\u001b[0m\u001b[0m\n\u001b[1;32m     32\u001b[0m     \u001b[0mprint\u001b[0m\u001b[0;34m(\u001b[0m\u001b[0m_list\u001b[0m\u001b[0;34m)\u001b[0m\u001b[0;34m\u001b[0m\u001b[0;34m\u001b[0m\u001b[0m\n\u001b[0;32m---> 33\u001b[0;31m     \u001b[0mopened_nodes\u001b[0m\u001b[0;34m.\u001b[0m\u001b[0mremove\u001b[0m\u001b[0;34m(\u001b[0m\u001b[0;34m[\u001b[0m\u001b[0m_list\u001b[0m\u001b[0;34m[\u001b[0m\u001b[0;36m0\u001b[0m\u001b[0;34m]\u001b[0m\u001b[0;34m,\u001b[0m \u001b[0m_list\u001b[0m\u001b[0;34m[\u001b[0m\u001b[0;36m1\u001b[0m\u001b[0;34m]\u001b[0m\u001b[0;34m]\u001b[0m\u001b[0;34m)\u001b[0m\u001b[0;34m\u001b[0m\u001b[0;34m\u001b[0m\u001b[0m\n\u001b[0m\u001b[1;32m     34\u001b[0m     \u001b[0mprint\u001b[0m\u001b[0;34m(\u001b[0m\u001b[0mchosen_nodes\u001b[0m\u001b[0;34m,\u001b[0m \u001b[0mopened_nodes\u001b[0m\u001b[0;34m)\u001b[0m\u001b[0;34m\u001b[0m\u001b[0;34m\u001b[0m\u001b[0m\n\u001b[1;32m     35\u001b[0m \u001b[0;34m\u001b[0m\u001b[0m\n",
      "\u001b[0;31mValueError\u001b[0m: list.remove(x): x not in list"
     ]
    }
   ],
   "source": [
    "# Cria lista de nós abertos e adiciona o ponto de partida, \n",
    "# adicionando valor nó e valor de f\n",
    "opened_nodes = []\n",
    "opened_nodes.append([\"A\", 0+366])\n",
    "\n",
    "chosen_nodes = []\n",
    "chosen_nodes.append(\"A\")\n",
    "\n",
    "#\"\"\"\n",
    "while \"B\" not in chosen_nodes:+\n",
    "    \n",
    "    _list = []\n",
    "    for i, _list in enumerate(opened_nodes):        \n",
    "        # Compara todos os f's dos nós abertos\n",
    "        minor = 9999999999999999\n",
    "        index_min = '' \n",
    "        if _list[1] < minor:\n",
    "            minor = _list[1]\n",
    "            index_min = _list[0]\n",
    "           \n",
    "    for j,edge in enumerate(graph[_list[0]]):\n",
    "        if edge != 0:\n",
    "            char = ascii_index_reverse(j)\n",
    "            opened_nodes.append([char, f(_list[0], char)])\n",
    "     \n",
    "    # Retira o nó \"A\" dos nós abertos depois da primeira iteração\n",
    "    if [\"A\", 366] in opened_nodes:\n",
    "        opened_nodes.remove([\"A\", 366])\n",
    "    else\n",
    "        # Retira o nó pai dos filhos recentemente abertos \n",
    "        # e o adiciona em chosen\n",
    "        opened_nodes.remove([_list[0], _list[1]])        \n",
    "    chosen_nodes.append(_list[0])\n",
    "\n",
    "    # O MENOR JÁ É PEGO E OS NÓS DELE ABERTOS NA SEQUENCIA\n",
    "    # ALEM DISSO, ADICIONADO NO CHOSEN.\n",
    "    \n",
    "                \n",
    "    #print(opened_nodes)\n",
    "    chosen_nodes.append(\"B\")\n",
    "#\"\"\""
   ]
  }
 ],
 "metadata": {
  "kernelspec": {
   "display_name": "Python 3",
   "language": "python",
   "name": "python3"
  },
  "language_info": {
   "codemirror_mode": {
    "name": "ipython",
    "version": 3
   },
   "file_extension": ".py",
   "mimetype": "text/x-python",
   "name": "python",
   "nbconvert_exporter": "python",
   "pygments_lexer": "ipython3",
   "version": "3.9.4"
  }
 },
 "nbformat": 4,
 "nbformat_minor": 5
}
